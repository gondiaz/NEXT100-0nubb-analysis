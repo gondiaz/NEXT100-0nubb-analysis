{
 "cells": [
  {
   "cell_type": "code",
   "execution_count": 1,
   "id": "81e1b11d",
   "metadata": {},
   "outputs": [
    {
     "ename": "ModuleNotFoundError",
     "evalue": "No module named 'fitting_tools.experiment_generator'",
     "output_type": "error",
     "traceback": [
      "\u001b[0;31m---------------------------------------------------------------------------\u001b[0m",
      "\u001b[0;31mModuleNotFoundError\u001b[0m                       Traceback (most recent call last)",
      "Input \u001b[0;32mIn [1]\u001b[0m, in \u001b[0;36m<cell line: 14>\u001b[0;34m()\u001b[0m\n\u001b[1;32m     10\u001b[0m \u001b[38;5;28;01mimport\u001b[39;00m \u001b[38;5;21;01mmatplotlib\u001b[39;00m\u001b[38;5;21;01m.\u001b[39;00m\u001b[38;5;21;01mpyplot\u001b[39;00m \u001b[38;5;28;01mas\u001b[39;00m \u001b[38;5;21;01mplt\u001b[39;00m\n\u001b[1;32m     12\u001b[0m \u001b[38;5;28;01mfrom\u001b[39;00m \u001b[38;5;21;01minvisible_cities\u001b[39;00m\u001b[38;5;21;01m.\u001b[39;00m\u001b[38;5;21;01mio\u001b[39;00m\u001b[38;5;21;01m.\u001b[39;00m\u001b[38;5;21;01mdst_io\u001b[39;00m \u001b[38;5;28;01mimport\u001b[39;00m load_dst, load_dsts\n\u001b[0;32m---> 14\u001b[0m \u001b[38;5;28;01mfrom\u001b[39;00m \u001b[38;5;21;01mfitting_tools\u001b[39;00m\u001b[38;5;21;01m.\u001b[39;00m\u001b[38;5;21;01mexperiment_generator\u001b[39;00m \u001b[38;5;28;01mimport\u001b[39;00m generate_background_experiment, create_unique_event_number\n\u001b[1;32m     16\u001b[0m plt\u001b[38;5;241m.\u001b[39mrcParams[\u001b[38;5;124m\"\u001b[39m\u001b[38;5;124mfont.size\u001b[39m\u001b[38;5;124m\"\u001b[39m]      \u001b[38;5;241m=\u001b[39m \u001b[38;5;241m15\u001b[39m\n\u001b[1;32m     17\u001b[0m plt\u001b[38;5;241m.\u001b[39mrcParams[\u001b[38;5;124m\"\u001b[39m\u001b[38;5;124mfont.family\u001b[39m\u001b[38;5;124m\"\u001b[39m]    \u001b[38;5;241m=\u001b[39m \u001b[38;5;124m\"\u001b[39m\u001b[38;5;124msans-serif\u001b[39m\u001b[38;5;124m\"\u001b[39m\n",
      "\u001b[0;31mModuleNotFoundError\u001b[0m: No module named 'fitting_tools.experiment_generator'"
     ]
    }
   ],
   "source": [
    "import os\n",
    "import sys\n",
    "sys.path.append(os.path.expandvars(\"$HOME/NEXT/NEXT100-0nubb-analysis\"))\n",
    "import glob\n",
    "import pandas as pd\n",
    "import numpy  as np\n",
    "import tables as tb\n",
    "\n",
    "%matplotlib notebook\n",
    "import matplotlib.pyplot as plt\n",
    "\n",
    "from invisible_cities.io.dst_io import load_dst, load_dsts\n",
    "\n",
    "from fitting_tools.experiment_generator import generate_background_experiment, create_unique_event_number\n",
    "\n",
    "plt.rcParams[\"font.size\"]      = 15\n",
    "plt.rcParams[\"font.family\"]    = \"sans-serif\"\n",
    "plt.rcParams[\"font.monospace\"] = \"Computer Modern Sans Serif\"\n",
    "plt.rcParams[\"figure.max_open_warning\"] = False"
   ]
  },
  {
   "cell_type": "code",
   "execution_count": null,
   "id": "95a023b3",
   "metadata": {},
   "outputs": [],
   "source": []
  },
  {
   "cell_type": "code",
   "execution_count": null,
   "id": "78cdb12c",
   "metadata": {},
   "outputs": [],
   "source": [
    "path = os.path.expandvars(\"$HOME/NEXT/pdata/{background}/{region}/\")\n",
    "\n",
    "backgrounds = [\"208Tl\", \"214Bi\"]\n",
    "month       = 30*24*3600\n",
    "year        = 12*month"
   ]
  },
  {
   "cell_type": "code",
   "execution_count": null,
   "id": "5a9052d3",
   "metadata": {},
   "outputs": [],
   "source": [
    "time = 50 * year\n",
    "data = generate_background_experiment(time, table_filename, path, backgrounds=[\"214Bi\", \"208Tl\"])\n",
    "data = create_unique_event_number(data, index_name=\"pevent\")\n",
    "\n",
    "print(\"Experiment summary\")\n",
    "print(\"------------------\")\n",
    "data.groupby([\"background\", \"region\"]).event.nunique()"
   ]
  },
  {
   "cell_type": "code",
   "execution_count": 6,
   "id": "a0f44958",
   "metadata": {},
   "outputs": [],
   "source": [
    "# avoid confusion, notice that a cut on tracks would bias this parameter\n",
    "data = data.drop(\"ntracks\", axis=1)"
   ]
  },
  {
   "cell_type": "markdown",
   "id": "442c528d",
   "metadata": {},
   "source": [
    "## Spurious tracks"
   ]
  },
  {
   "cell_type": "code",
   "execution_count": 7,
   "id": "8bf7ecee",
   "metadata": {},
   "outputs": [
    {
     "data": {
      "application/vnd.jupyter.widget-view+json": {
       "model_id": "87b1d8fae6324c33b9c93cfb5905c57a",
       "version_major": 2,
       "version_minor": 0
      },
      "text/plain": [
       "Canvas(toolbar=Toolbar(toolitems=[('Home', 'Reset original view', 'home', 'home'), ('Back', 'Back to previous …"
      ]
     },
     "metadata": {},
     "output_type": "display_data"
    },
    {
     "data": {
      "application/vnd.jupyter.widget-view+json": {
       "model_id": "02a5db6b3b7f435985ec667f4e801551",
       "version_major": 2,
       "version_minor": 0
      },
      "text/plain": [
       "Canvas(toolbar=Toolbar(toolitems=[('Home', 'Reset original view', 'home', 'home'), ('Back', 'Back to previous …"
      ]
     },
     "metadata": {},
     "output_type": "display_data"
    },
    {
     "data": {
      "text/plain": [
       "Text(0, 0.5, 'nvoxels')"
      ]
     },
     "execution_count": 7,
     "metadata": {},
     "output_type": "execute_result"
    }
   ],
   "source": [
    "de = 5e-3\n",
    "bins = np.arange(0, 3, de)\n",
    "\n",
    "plt.figure()\n",
    "h, _ = np.histogram(data[\"energy\"], bins=bins)\n",
    "plt.stairs(h, bins, label=\"total\", linestyle=\"--\")\n",
    "plt.ylim([0, None])\n",
    "plt.xlabel(\"track energy (MeV)\")\n",
    "plt.yscale(\"linear\")\n",
    "plt.legend()\n",
    "\n",
    "\n",
    "plt.figure()\n",
    "xbins = np.arange(0, 50, 0.1)\n",
    "ybins = np.arange(0, 10, 1)\n",
    "plt.hist2d(data[\"energy\"]*1e3, data[\"nvoxels\"], bins=[xbins, ybins]);\n",
    "plt.xlabel(\"track energy (keV)\")\n",
    "plt.ylabel(\"nvoxels\")"
   ]
  },
  {
   "cell_type": "code",
   "execution_count": 8,
   "id": "ced61a7b",
   "metadata": {},
   "outputs": [
    {
     "data": {
      "text/plain": [
       "background  region           \n",
       "208Tl       EP_COPPER_PLATE        238\n",
       "            INTERNAL_PMT_BASE    85359\n",
       "            LIGHT_TUBE           33415\n",
       "            OPTICAL_PAD           6359\n",
       "            SAPPHIRE_WINDOW       2789\n",
       "            SIPM_BOARD           24014\n",
       "            TP_COPPER_PLATE        144\n",
       "214Bi       EP_COPPER_PLATE         34\n",
       "            INTERNAL_PMT_BASE     2257\n",
       "            LIGHT_TUBE           23777\n",
       "            OPTICAL_PAD            726\n",
       "            SAPPHIRE_WINDOW        615\n",
       "            SIPM_BOARD            5596\n",
       "            TP_COPPER_PLATE         14\n",
       "Name: pevent, dtype: int64"
      ]
     },
     "execution_count": 8,
     "metadata": {},
     "output_type": "execute_result"
    }
   ],
   "source": [
    "# spurious tracks\n",
    "data = data.loc[data[\"energy\"]>20e-3]\n",
    "data.groupby([\"background\", \"region\"]).pevent.nunique()"
   ]
  },
  {
   "cell_type": "markdown",
   "id": "49959688",
   "metadata": {},
   "source": [
    "## 1S2"
   ]
  },
  {
   "cell_type": "code",
   "execution_count": 9,
   "id": "b384f1ac",
   "metadata": {},
   "outputs": [
    {
     "data": {
      "application/vnd.jupyter.widget-view+json": {
       "model_id": "e59c4872e77949da85c5cbcd74733a53",
       "version_major": 2,
       "version_minor": 0
      },
      "text/plain": [
       "Canvas(toolbar=Toolbar(toolitems=[('Home', 'Reset original view', 'home', 'home'), ('Back', 'Back to previous …"
      ]
     },
     "metadata": {},
     "output_type": "display_data"
    }
   ],
   "source": [
    "dn = 1\n",
    "bins = np.arange(-0.5, 6.5, dn)\n",
    "\n",
    "plt.figure()\n",
    "h, _ = np.histogram(data.groupby(\"event\").peak.nunique(), bins=bins, density=True)\n",
    "plt.stairs(h, bins, label=\"total\", linestyle=\"--\")\n",
    "\n",
    "for background in backgrounds:\n",
    "    sel  = (data[\"background\"]==background)\n",
    "    h, _ = np.histogram(data.loc[sel].groupby(\"pevent\").peak.nunique(), bins=bins, density=True)\n",
    "    plt.stairs(h, bins, label=background)\n",
    "        \n",
    "plt.ylim([0, None])\n",
    "plt.xlabel(\"nS2s\")\n",
    "plt.xticks(bins.astype(int))\n",
    "plt.yscale(\"linear\")\n",
    "plt.legend();"
   ]
  },
  {
   "cell_type": "code",
   "execution_count": 10,
   "id": "fd131ae3",
   "metadata": {},
   "outputs": [
    {
     "data": {
      "text/plain": [
       "background  component       region           \n",
       "208Tl       Body            LIGHT_TUBE           13922\n",
       "            Energy Plane    EP_COPPER_PLATE        128\n",
       "                            INTERNAL_PMT_BASE    48289\n",
       "                            OPTICAL_PAD           3460\n",
       "                            SAPPHIRE_WINDOW       1486\n",
       "            Tracking Plane  SIPM_BOARD           10144\n",
       "                            TP_COPPER_PLATE         79\n",
       "214Bi       Body            LIGHT_TUBE           14797\n",
       "            Energy Plane    EP_COPPER_PLATE         13\n",
       "                            INTERNAL_PMT_BASE      960\n",
       "                            OPTICAL_PAD            329\n",
       "                            SAPPHIRE_WINDOW        265\n",
       "            Tracking Plane  SIPM_BOARD            2279\n",
       "                            TP_COPPER_PLATE          4\n",
       "Name: event, dtype: int64"
      ]
     },
     "execution_count": 10,
     "metadata": {},
     "output_type": "execute_result"
    }
   ],
   "source": [
    "# 1 peak cut\n",
    "sel_1peak = (data.groupby(\"pevent\").peak.nunique() == 1)\n",
    "data = data.set_index(\"pevent\").loc[sel_1peak].reset_index()\n",
    "data.groupby([\"background\", \"component\", \"region\"]).event.nunique()"
   ]
  },
  {
   "cell_type": "code",
   "execution_count": 11,
   "id": "7e753e7f",
   "metadata": {},
   "outputs": [
    {
     "data": {
      "application/vnd.jupyter.widget-view+json": {
       "model_id": "7b63563e29504e57bb714eede681a04e",
       "version_major": 2,
       "version_minor": 0
      },
      "text/plain": [
       "Canvas(toolbar=Toolbar(toolitems=[('Home', 'Reset original view', 'home', 'home'), ('Back', 'Back to previous …"
      ]
     },
     "metadata": {},
     "output_type": "display_data"
    }
   ],
   "source": [
    "de = 5e-3\n",
    "bins = np.arange(0, 3, de)\n",
    "\n",
    "plt.figure()\n",
    "h, _ = np.histogram(data.groupby(\"pevent\").energy.sum(), bins=bins)\n",
    "plt.stairs(h, bins, label=\"total\", linestyle=\"--\")\n",
    "\n",
    "for background in backgrounds:\n",
    "    sel  = (data[\"background\"]==background)\n",
    "    h, _ = np.histogram(data.loc[sel].groupby(\"pevent\").energy.sum(), bins=bins)\n",
    "    plt.stairs(h, bins, label=background)\n",
    "    \n",
    "plt.axvline(x=2.458, ymin=0, ymax=1, linestyle=\"--\", linewidth=1, color=\"r\", label=\"Qbb\")    \n",
    "plt.ylim([0, None])\n",
    "plt.xlabel(\"Total event energy (MeV)\")\n",
    "plt.yscale(\"linear\")\n",
    "plt.legend();"
   ]
  },
  {
   "cell_type": "markdown",
   "id": "ec1d930a",
   "metadata": {},
   "source": [
    "## Position variables"
   ]
  },
  {
   "cell_type": "code",
   "execution_count": 12,
   "id": "156cf50e",
   "metadata": {},
   "outputs": [
    {
     "data": {
      "application/vnd.jupyter.widget-view+json": {
       "model_id": "58049aa8a0ee47c4b339cb7ce7e92e0d",
       "version_major": 2,
       "version_minor": 0
      },
      "text/plain": [
       "Canvas(toolbar=Toolbar(toolitems=[('Home', 'Reset original view', 'home', 'home'), ('Back', 'Back to previous …"
      ]
     },
     "metadata": {},
     "output_type": "display_data"
    }
   ],
   "source": [
    "dz = 2\n",
    "bins = np.arange(0, 1300, dz)\n",
    "\n",
    "plt.figure()\n",
    "h, _ = np.histogram(data[\"z\"], bins=bins)\n",
    "plt.stairs(h, bins, label=\"total\")\n",
    "\n",
    "z = 15\n",
    "plt.axvline(x=z, ymin=0, ymax=1, linestyle=\"--\", linewidth=1, color=\"r\", label=f\"z={z}\")   \n",
    "plt.xlabel(\"Track mean z (mm)\")\n",
    "plt.legend();"
   ]
  },
  {
   "cell_type": "code",
   "execution_count": 13,
   "id": "e7b06925",
   "metadata": {},
   "outputs": [
    {
     "data": {
      "application/vnd.jupyter.widget-view+json": {
       "model_id": "0c3e1022736b4c88a80ace3ae0e3fbc3",
       "version_major": 2,
       "version_minor": 0
      },
      "text/plain": [
       "Canvas(toolbar=Toolbar(toolitems=[('Home', 'Reset original view', 'home', 'home'), ('Back', 'Back to previous …"
      ]
     },
     "metadata": {},
     "output_type": "display_data"
    }
   ],
   "source": [
    "dr = 2\n",
    "bins = np.arange(0, 500, dr)\n",
    "\n",
    "plt.figure()\n",
    "h, _ = np.histogram(data[\"r\"], bins=bins)\n",
    "plt.stairs(h, bins, label=\"total\")\n",
    "\n",
    "r = 460\n",
    "plt.axvline(x=r, ymin=0, ymax=1, linestyle=\"--\", linewidth=1, color=\"r\", label=f\"r={r} mm\")   \n",
    "plt.xlabel(\"Track mean radius (mm)\")\n",
    "plt.legend();"
   ]
  },
  {
   "cell_type": "code",
   "execution_count": 14,
   "id": "04a2e3ee",
   "metadata": {},
   "outputs": [
    {
     "data": {
      "application/vnd.jupyter.widget-view+json": {
       "model_id": "4b605c00acc542df8a22e568caaba086",
       "version_major": 2,
       "version_minor": 0
      },
      "text/plain": [
       "Canvas(toolbar=Toolbar(toolitems=[('Home', 'Reset original view', 'home', 'home'), ('Back', 'Back to previous …"
      ]
     },
     "metadata": {},
     "output_type": "display_data"
    }
   ],
   "source": [
    "dr = 2\n",
    "bins = np.arange(0, 500, dr)\n",
    "\n",
    "plt.figure()\n",
    "h, _ = np.histogram(data[\"rmin\"], bins=bins)\n",
    "plt.stairs(h, bins, label=\"total\")\n",
    "\n",
    "r = 460\n",
    "plt.axvline(x=r, ymin=0, ymax=1, linestyle=\"--\", linewidth=1, color=\"r\", label=f\"r={r} mm\")   \n",
    "plt.xlabel(\"Track min radius (mm)\")\n",
    "plt.legend();"
   ]
  },
  {
   "cell_type": "code",
   "execution_count": 15,
   "id": "daa37e18",
   "metadata": {},
   "outputs": [
    {
     "data": {
      "application/vnd.jupyter.widget-view+json": {
       "model_id": "6a9fcb2968e842a5a0aabf8f7b60fa44",
       "version_major": 2,
       "version_minor": 0
      },
      "text/plain": [
       "Canvas(toolbar=Toolbar(toolitems=[('Home', 'Reset original view', 'home', 'home'), ('Back', 'Back to previous …"
      ]
     },
     "metadata": {},
     "output_type": "display_data"
    }
   ],
   "source": [
    "dr = 2\n",
    "bins = np.arange(0, 500, dr)\n",
    "\n",
    "plt.figure()\n",
    "h, _ = np.histogram(data[\"rmax\"], bins=bins)\n",
    "plt.stairs(h, bins, label=\"total\")\n",
    "\n",
    "plt.xlabel(\"Track max radius (mm)\")\n",
    "plt.legend();"
   ]
  },
  {
   "cell_type": "markdown",
   "id": "9c64376a",
   "metadata": {},
   "source": [
    "## Z Fiducial (1S1 equivalent)"
   ]
  },
  {
   "cell_type": "code",
   "execution_count": 16,
   "id": "a572c8a8",
   "metadata": {},
   "outputs": [
    {
     "data": {
      "text/plain": [
       "background  component       region           \n",
       "208Tl       Body            LIGHT_TUBE            0.502801\n",
       "            Energy Plane    EP_COPPER_PLATE       0.613497\n",
       "                            INTERNAL_PMT_BASE     0.254474\n",
       "                            OPTICAL_PAD           0.264706\n",
       "                            SAPPHIRE_WINDOW            NaN\n",
       "            Tracking Plane  SIPM_BOARD            4.761435\n",
       "                            TP_COPPER_PLATE       2.247191\n",
       "214Bi       Body            LIGHT_TUBE            6.084727\n",
       "            Energy Plane    EP_COPPER_PLATE            NaN\n",
       "                            INTERNAL_PMT_BASE     0.302725\n",
       "                            OPTICAL_PAD           0.303951\n",
       "                            SAPPHIRE_WINDOW            NaN\n",
       "            Tracking Plane  SIPM_BOARD           13.426942\n",
       "                            TP_COPPER_PLATE      33.333333\n",
       "Name: event, dtype: float64"
      ]
     },
     "execution_count": 16,
     "metadata": {},
     "output_type": "execute_result"
    }
   ],
   "source": [
    "sel_z = data[\"z\"]<15\n",
    "sel_events_z = data[sel_z].set_index(\"pevent\").index.unique()\n",
    "df = data.set_index(\"pevent\").loc[sel_events_z].reset_index()\n",
    "\n",
    "sel = df  .groupby([\"background\", \"component\", \"region\"]).event.nunique()\n",
    "tot = data.groupby([\"background\", \"component\", \"region\"]).event.nunique()\n",
    "100*sel/tot"
   ]
  },
  {
   "cell_type": "code",
   "execution_count": 17,
   "id": "19d5fd5b",
   "metadata": {},
   "outputs": [
    {
     "data": {
      "application/vnd.jupyter.widget-view+json": {
       "model_id": "a0fc50fe63bb4252b75d2a47292259ad",
       "version_major": 2,
       "version_minor": 0
      },
      "text/plain": [
       "Canvas(toolbar=Toolbar(toolitems=[('Home', 'Reset original view', 'home', 'home'), ('Back', 'Back to previous …"
      ]
     },
     "metadata": {},
     "output_type": "display_data"
    }
   ],
   "source": [
    "de = 10e-3\n",
    "bins = np.arange(0, 1.7, de)\n",
    "\n",
    "plt.figure()\n",
    "h, _ = np.histogram(df.groupby(\"pevent\").energy.sum(), bins=bins)\n",
    "plt.stairs(h, bins, label=\"total-zcut\")\n",
    "h, _ = np.histogram(data.groupby(\"pevent\").energy.sum(), bins=bins)\n",
    "plt.stairs(h, bins, label=\"total\")\n",
    "\n",
    "plt.axvline(x=2.458, ymin=0, ymax=1, linestyle=\"--\", linewidth=1, color=\"r\", label=\"Qbb\")    \n",
    "plt.ylim([0, None])\n",
    "plt.xlabel(\"Total event energy (MeV)\")\n",
    "plt.yscale(\"linear\")\n",
    "plt.legend();"
   ]
  },
  {
   "cell_type": "code",
   "execution_count": 18,
   "id": "8438dce1",
   "metadata": {},
   "outputs": [
    {
     "data": {
      "application/vnd.jupyter.widget-view+json": {
       "model_id": "7e5553ac710a46848328ac57d6c10548",
       "version_major": 2,
       "version_minor": 0
      },
      "text/plain": [
       "Canvas(toolbar=Toolbar(toolitems=[('Home', 'Reset original view', 'home', 'home'), ('Back', 'Back to previous …"
      ]
     },
     "metadata": {},
     "output_type": "display_data"
    }
   ],
   "source": [
    "dn = 1\n",
    "bins = np.arange(-0.5, 6.5, dn)\n",
    "\n",
    "plt.figure()\n",
    "h, _ = np.histogram(data.groupby(\"pevent\").track.nunique(), bins=bins, density=True)\n",
    "plt.stairs(h, bins, label=\"total\", linestyle=\"--\")\n",
    "\n",
    "h, _ = np.histogram(df.groupby(\"pevent\").track.nunique(), bins=bins, density=True)\n",
    "plt.stairs(h, bins, label=\"total-zcut\", linestyle=\"--\")\n",
    "\n",
    "for background in backgrounds:\n",
    "    sel  = (df[\"background\"]==background)\n",
    "    h, _ = np.histogram(df[sel].groupby(\"pevent\").track.nunique(), bins=bins, density=True)\n",
    "    plt.stairs(h, bins, label=background + \"-z-cut\")\n",
    "\n",
    "plt.xlabel(\"N tracks\")\n",
    "plt.yscale(\"linear\")\n",
    "plt.xticks(bins.astype(int))\n",
    "plt.legend();"
   ]
  },
  {
   "cell_type": "code",
   "execution_count": 22,
   "id": "9ecad8b0",
   "metadata": {},
   "outputs": [
    {
     "data": {
      "application/vnd.jupyter.widget-view+json": {
       "model_id": "cda7f10850174afe98e6f35800954aa5",
       "version_major": 2,
       "version_minor": 0
      },
      "text/plain": [
       "Canvas(toolbar=Toolbar(toolitems=[('Home', 'Reset original view', 'home', 'home'), ('Back', 'Back to previous …"
      ]
     },
     "metadata": {},
     "output_type": "display_data"
    },
    {
     "data": {
      "application/vnd.jupyter.widget-view+json": {
       "model_id": "93cee28302844766b193a6585bd7c0ab",
       "version_major": 2,
       "version_minor": 0
      },
      "text/plain": [
       "Canvas(toolbar=Toolbar(toolitems=[('Home', 'Reset original view', 'home', 'home'), ('Back', 'Back to previous …"
      ]
     },
     "metadata": {},
     "output_type": "display_data"
    }
   ],
   "source": [
    "plt.figure()\n",
    "plt.hist2d(df[\"x\"], df[\"y\"], bins=100);\n",
    "plt.xlabel(\"X (mm)\")\n",
    "plt.ylabel(\"Y (mm)\");\n",
    "\n",
    "dr = 2\n",
    "bins = np.arange(-0.5, 550, dr)\n",
    "\n",
    "plt.figure()\n",
    "h, _ = np.histogram((data[\"x\"]**2 + data[\"y\"]**2)**0.5, bins=bins, density=False)\n",
    "plt.stairs(h, bins, label=\"total\")\n",
    "h, _ = np.histogram((df[\"x\"]**2 + df[\"y\"]**2)**0.5, bins=bins, density=False)\n",
    "plt.stairs(h, bins, label=\"total-zcut\")\n",
    "r = 470\n",
    "plt.axvline(x=r, ymin=0, ymax=1, linestyle=\"--\", linewidth=1, color=\"r\", label=\"r=490\")   \n",
    "plt.xlabel(\"R (mm)\");"
   ]
  },
  {
   "cell_type": "code",
   "execution_count": 23,
   "id": "95ceadc3",
   "metadata": {},
   "outputs": [],
   "source": [
    "# apply zcut. apply in whole event instead on tracks?\n",
    "data = data[data[\"z\"]>=15]"
   ]
  },
  {
   "cell_type": "code",
   "execution_count": 25,
   "id": "945dbfc3",
   "metadata": {},
   "outputs": [
    {
     "data": {
      "application/vnd.jupyter.widget-view+json": {
       "model_id": "3eeefe8b331c41b2a655172b6dcc0244",
       "version_major": 2,
       "version_minor": 0
      },
      "text/plain": [
       "Canvas(toolbar=Toolbar(toolitems=[('Home', 'Reset original view', 'home', 'home'), ('Back', 'Back to previous …"
      ]
     },
     "metadata": {},
     "output_type": "display_data"
    }
   ],
   "source": [
    "de = 5e-3\n",
    "bins = np.arange(0, 3, de)\n",
    "\n",
    "plt.figure()\n",
    "h, _ = np.histogram(data.groupby(\"pevent\").energy.sum(), bins=bins)\n",
    "plt.stairs(h, bins, label=\"total\", linestyle=\"--\")\n",
    "\n",
    "for background in backgrounds:\n",
    "    sel  = (data[\"background\"]==background)\n",
    "    h, _ = np.histogram(data.loc[sel].groupby(\"pevent\").energy.sum(), bins=bins)\n",
    "    plt.stairs(h, bins, label=background)\n",
    "    \n",
    "plt.axvline(x=2.458, ymin=0, ymax=1, linestyle=\"--\", linewidth=1, color=\"r\", label=\"Qbb\")    \n",
    "plt.ylim([0, None])\n",
    "plt.xlabel(\"Total event energy (MeV)\")\n",
    "plt.yscale(\"linear\")\n",
    "plt.legend();"
   ]
  },
  {
   "cell_type": "code",
   "execution_count": 26,
   "id": "68ed2016",
   "metadata": {},
   "outputs": [
    {
     "data": {
      "application/vnd.jupyter.widget-view+json": {
       "model_id": "254f9b15e1444c4b90f555321656469d",
       "version_major": 2,
       "version_minor": 0
      },
      "text/plain": [
       "Canvas(toolbar=Toolbar(toolitems=[('Home', 'Reset original view', 'home', 'home'), ('Back', 'Back to previous …"
      ]
     },
     "metadata": {},
     "output_type": "display_data"
    }
   ],
   "source": [
    "dz = 3\n",
    "bins = np.arange(0, 1300, dz)\n",
    "\n",
    "plt.figure()\n",
    "h, _ = np.histogram(data[\"z\"], bins=bins)\n",
    "plt.stairs(h, bins, label=\"total\")\n",
    "\n",
    "plt.xlabel(\"Track mean z (mm)\")\n",
    "plt.legend();"
   ]
  },
  {
   "cell_type": "markdown",
   "id": "f7a4f81b",
   "metadata": {},
   "source": [
    "## Rmin weird peak"
   ]
  },
  {
   "cell_type": "code",
   "execution_count": 26,
   "id": "d5519058",
   "metadata": {},
   "outputs": [
    {
     "data": {
      "application/vnd.jupyter.widget-view+json": {
       "model_id": "631f4fbed66d4b03a2ea95e8a6971de4",
       "version_major": 2,
       "version_minor": 0
      },
      "text/plain": [
       "Canvas(toolbar=Toolbar(toolitems=[('Home', 'Reset original view', 'home', 'home'), ('Back', 'Back to previous …"
      ]
     },
     "metadata": {},
     "output_type": "display_data"
    }
   ],
   "source": [
    "dr = 3\n",
    "bins = np.arange(-0.5, 500, dr)\n",
    "\n",
    "plt.figure()\n",
    "h, _ = np.histogram(data[\"rmin\"], bins=bins, density=False)\n",
    "plt.stairs(h, bins, label=\"total\")\n",
    "\n",
    "r = 460\n",
    "plt.axvline(x=r, ymin=0, ymax=1, linestyle=\"--\", linewidth=1, color=\"r\", label=f\"r={r} mm\")   \n",
    "plt.xlabel(\"R min (mm)\");"
   ]
  },
  {
   "cell_type": "code",
   "execution_count": 27,
   "id": "6faa6d4b",
   "metadata": {},
   "outputs": [
    {
     "data": {
      "text/plain": [
       "background  component       region           \n",
       "208Tl       Body            LIGHT_TUBE            3.499531\n",
       "            Energy Plane    EP_COPPER_PLATE       1.851852\n",
       "                            INTERNAL_PMT_BASE     1.059726\n",
       "                            OPTICAL_PAD           1.208726\n",
       "                            SAPPHIRE_WINDOW       1.354839\n",
       "            Tracking Plane  SIPM_BOARD            1.340621\n",
       "                            TP_COPPER_PLATE            NaN\n",
       "214Bi       Body            LIGHT_TUBE            7.813285\n",
       "            Energy Plane    EP_COPPER_PLATE            NaN\n",
       "                            INTERNAL_PMT_BASE     1.720648\n",
       "                            OPTICAL_PAD           0.304878\n",
       "                            SAPPHIRE_WINDOW       0.754717\n",
       "            Tracking Plane  SIPM_BOARD            1.664145\n",
       "                            TP_COPPER_PLATE      33.333333\n",
       "Name: event, dtype: float64"
      ]
     },
     "execution_count": 27,
     "metadata": {},
     "output_type": "execute_result"
    }
   ],
   "source": [
    "sel_rmin = data[\"rmin\"]>460\n",
    "sel_events_rmin = data[sel_rmin].set_index(\"pevent\").index.unique()\n",
    "df = data.set_index(\"pevent\").loc[sel_events_rmin].reset_index()\n",
    "\n",
    "sel = df  .groupby([\"background\", \"component\", \"region\"]).event.nunique()\n",
    "tot = data.groupby([\"background\", \"component\", \"region\"]).event.nunique()\n",
    "100*sel/tot"
   ]
  },
  {
   "cell_type": "code",
   "execution_count": 28,
   "id": "63bad33e",
   "metadata": {},
   "outputs": [
    {
     "data": {
      "application/vnd.jupyter.widget-view+json": {
       "model_id": "4bb46b0f282c401d819e45598cb7e198",
       "version_major": 2,
       "version_minor": 0
      },
      "text/plain": [
       "Canvas(toolbar=Toolbar(toolitems=[('Home', 'Reset original view', 'home', 'home'), ('Back', 'Back to previous …"
      ]
     },
     "metadata": {},
     "output_type": "display_data"
    }
   ],
   "source": [
    "dn = 1\n",
    "bins = np.arange(-0.5, 6.5, dn)\n",
    "\n",
    "plt.figure()\n",
    "h, _ = np.histogram(data.groupby(\"event\").track.nunique(), bins=bins, density=True)\n",
    "plt.stairs(h, bins, label=\"total\", linestyle=\"--\")\n",
    "\n",
    "# h, _ = np.histogram(df.groupby(\"event\").track.nunique(), bins=bins, density=True)\n",
    "# plt.step(bins[1:], h, label=\"total-rmincut\", linestyle=\"--\")\n",
    "\n",
    "for background in backgrounds:\n",
    "    sel  = (df[\"background\"]==background)\n",
    "    h, _ = np.histogram(df[sel].groupby(\"event\").track.nunique(), bins=bins, density=True)\n",
    "    plt.stairs(h, bins, label=background + \"-rmin-cut\")\n",
    "\n",
    "plt.xlabel(\"N tracks\")\n",
    "plt.yscale(\"linear\")\n",
    "plt.xticks(bins.astype(int))\n",
    "plt.legend();"
   ]
  },
  {
   "cell_type": "code",
   "execution_count": 29,
   "id": "f99a0e27",
   "metadata": {},
   "outputs": [
    {
     "data": {
      "application/vnd.jupyter.widget-view+json": {
       "model_id": "76bd4971204c47b29fc8889af18dd4a4",
       "version_major": 2,
       "version_minor": 0
      },
      "text/plain": [
       "Canvas(toolbar=Toolbar(toolitems=[('Home', 'Reset original view', 'home', 'home'), ('Back', 'Back to previous …"
      ]
     },
     "metadata": {},
     "output_type": "display_data"
    }
   ],
   "source": [
    "de = 10e-3\n",
    "bins = np.arange(0, 3.0, de)\n",
    "\n",
    "plt.figure()\n",
    "h, _ = np.histogram(df.groupby(\"pevent\").energy.sum(), bins=bins)\n",
    "plt.stairs(h, bins, label=\"total-rmin-cut\")\n",
    "h, _ = np.histogram(data.groupby(\"pevent\").energy.sum(), bins=bins)\n",
    "plt.stairs(h, bins, label=\"total\")\n",
    "\n",
    "plt.axvline(x=2.458, ymin=0, ymax=1, linestyle=\"--\", linewidth=1, color=\"r\", label=\"Qbb\")    \n",
    "plt.ylim([0, None])\n",
    "plt.xlabel(\"Total event energy (MeV)\")\n",
    "plt.yscale(\"linear\")\n",
    "plt.legend();"
   ]
  },
  {
   "cell_type": "code",
   "execution_count": 30,
   "id": "1d57a6fe",
   "metadata": {},
   "outputs": [
    {
     "data": {
      "application/vnd.jupyter.widget-view+json": {
       "model_id": "02d2a985806844138ec87fdecbc50834",
       "version_major": 2,
       "version_minor": 0
      },
      "text/plain": [
       "Canvas(toolbar=Toolbar(toolitems=[('Home', 'Reset original view', 'home', 'home'), ('Back', 'Back to previous …"
      ]
     },
     "metadata": {},
     "output_type": "display_data"
    }
   ],
   "source": [
    "rcut = 460\n",
    "\n",
    "plt.figure()\n",
    "plt.hist2d(df[\"x\"], df[\"y\"], bins=100);\n",
    "theta = np.linspace(0, 2*np.pi, 100)\n",
    "plt.plot(rcut*np.cos(theta), rcut*np.sin(theta), c=\"r\")\n",
    "plt.xlabel(\"X (mm)\")\n",
    "plt.ylabel(\"Y (mm)\");"
   ]
  },
  {
   "cell_type": "code",
   "execution_count": 31,
   "id": "616f8ea8",
   "metadata": {},
   "outputs": [
    {
     "data": {
      "application/vnd.jupyter.widget-view+json": {
       "model_id": "59dee01522d44b37a57a09ffd553f111",
       "version_major": 2,
       "version_minor": 0
      },
      "text/plain": [
       "Canvas(toolbar=Toolbar(toolitems=[('Home', 'Reset original view', 'home', 'home'), ('Back', 'Back to previous …"
      ]
     },
     "metadata": {},
     "output_type": "display_data"
    }
   ],
   "source": [
    "dr = 2\n",
    "bins = np.arange(-0.5, 550, dr)\n",
    "\n",
    "plt.figure()\n",
    "h, _ = np.histogram(data[\"r\"], bins=bins, density=False)\n",
    "plt.stairs(h, bins, label=\"total\")\n",
    "h, _ = np.histogram(df[\"r\"], bins=bins, density=False)\n",
    "plt.stairs(h, bins, label=\"total-rmin\")\n",
    "plt.axvline(x=rcut, ymin=0, ymax=1, linestyle=\"--\", linewidth=1, color=\"r\", label=\"r=490\")   \n",
    "plt.xlabel(\"R max (mm)\");"
   ]
  },
  {
   "cell_type": "code",
   "execution_count": 32,
   "id": "f6d22e9d",
   "metadata": {},
   "outputs": [],
   "source": [
    "# apply the cut\n",
    "sel_rmin = data[\"rmin\"]<460\n",
    "sel_events_rmin = data[sel_rmin].set_index(\"pevent\").index.unique()\n",
    "data = data.set_index(\"pevent\").loc[sel_events_rmin].reset_index()"
   ]
  },
  {
   "cell_type": "code",
   "execution_count": null,
   "id": "0ca1e51b",
   "metadata": {},
   "outputs": [],
   "source": []
  },
  {
   "cell_type": "markdown",
   "id": "449a8e68",
   "metadata": {},
   "source": [
    "## E<2.0 MeV ??"
   ]
  },
  {
   "cell_type": "code",
   "execution_count": 33,
   "id": "6d7f62be",
   "metadata": {},
   "outputs": [
    {
     "data": {
      "application/vnd.jupyter.widget-view+json": {
       "model_id": "fa13b224109e45fe826b1e16f99575a8",
       "version_major": 2,
       "version_minor": 0
      },
      "text/plain": [
       "Canvas(toolbar=Toolbar(toolitems=[('Home', 'Reset original view', 'home', 'home'), ('Back', 'Back to previous …"
      ]
     },
     "metadata": {},
     "output_type": "display_data"
    }
   ],
   "source": [
    "de = 5e-3\n",
    "bins = np.arange(0, 3, de)\n",
    "\n",
    "plt.figure()\n",
    "h, _ = np.histogram(data.groupby(\"pevent\").energy.sum(), bins=bins)\n",
    "plt.stairs(h, bins, label=\"total\", linestyle=\"--\")\n",
    "\n",
    "for background in backgrounds:\n",
    "    sel  = (data[\"background\"]==background)\n",
    "    h, _ = np.histogram(data.loc[sel].groupby(\"pevent\").energy.sum(), bins=bins)\n",
    "    plt.stairs(h, bins, label=background)\n",
    "    \n",
    "plt.axvline(x=2.458, ymin=0, ymax=1, linestyle=\"--\", linewidth=1, color=\"r\", label=\"Qbb\")    \n",
    "plt.ylim([0, None])\n",
    "plt.xlabel(\"Total event energy (MeV)\")\n",
    "plt.yscale(\"linear\")\n",
    "plt.legend();"
   ]
  },
  {
   "cell_type": "code",
   "execution_count": 38,
   "id": "78e08073",
   "metadata": {},
   "outputs": [],
   "source": [
    "energy = data.groupby(\"pevent\").energy.sum()\n",
    "sel = energy[energy<2.0]\n",
    "df = data.set_index(\"pevent\").loc[sel.index.unique()].reset_index()"
   ]
  },
  {
   "cell_type": "code",
   "execution_count": 39,
   "id": "ee27f12d",
   "metadata": {},
   "outputs": [
    {
     "data": {
      "text/plain": [
       "background  component       region           \n",
       "208Tl       Body            LIGHT_TUBE            7.005127\n",
       "            Energy Plane    EP_COPPER_PLATE       2.469136\n",
       "                            INTERNAL_PMT_BASE     2.966190\n",
       "                            OPTICAL_PAD           3.951637\n",
       "                            SAPPHIRE_WINDOW       2.973497\n",
       "            Tracking Plane  SIPM_BOARD            4.715229\n",
       "                            TP_COPPER_PLATE       5.747126\n",
       "214Bi       Body            LIGHT_TUBE           24.242880\n",
       "            Energy Plane    EP_COPPER_PLATE            NaN\n",
       "                            INTERNAL_PMT_BASE     3.238866\n",
       "                            OPTICAL_PAD           2.743902\n",
       "                            SAPPHIRE_WINDOW       3.396226\n",
       "            Tracking Plane  SIPM_BOARD            7.824331\n",
       "                            TP_COPPER_PLATE      33.333333\n",
       "Name: event, dtype: float64"
      ]
     },
     "execution_count": 39,
     "metadata": {},
     "output_type": "execute_result"
    }
   ],
   "source": [
    "sel = df  .groupby([\"background\", \"component\", \"region\"]).event.nunique()\n",
    "tot = data.groupby([\"background\", \"component\", \"region\"]).event.nunique()\n",
    "100 * sel/tot"
   ]
  },
  {
   "cell_type": "code",
   "execution_count": 40,
   "id": "719dbda9",
   "metadata": {},
   "outputs": [
    {
     "data": {
      "application/vnd.jupyter.widget-view+json": {
       "model_id": "b482db32b02249729b07efe70366efa2",
       "version_major": 2,
       "version_minor": 0
      },
      "text/plain": [
       "Canvas(toolbar=Toolbar(toolitems=[('Home', 'Reset original view', 'home', 'home'), ('Back', 'Back to previous …"
      ]
     },
     "metadata": {},
     "output_type": "display_data"
    }
   ],
   "source": [
    "rcut = 460\n",
    "\n",
    "plt.figure()\n",
    "plt.hist2d(df[\"x\"], df[\"y\"], bins=100);\n",
    "theta = np.linspace(0, 2*np.pi, 100)\n",
    "plt.plot(rcut*np.cos(theta), rcut*np.sin(theta), c=\"r\")\n",
    "plt.xlabel(\"X (mm)\")\n",
    "plt.ylabel(\"Y (mm)\");"
   ]
  },
  {
   "cell_type": "markdown",
   "id": "5cfcb684",
   "metadata": {},
   "source": [
    "Events reconstructed with E<2.0 MeV corresponds to events at the borders, whose energy is degraded due to the smaller light collection at these extreme region (the light-table is much lower at the edges). This effect should be corrected by Kr map!"
   ]
  },
  {
   "cell_type": "code",
   "execution_count": 63,
   "id": "90e4d1b7",
   "metadata": {},
   "outputs": [
    {
     "data": {
      "application/vnd.jupyter.widget-view+json": {
       "model_id": "78a69c0401884e6384ccdd35f8f088af",
       "version_major": 2,
       "version_minor": 0
      },
      "text/plain": [
       "Canvas(toolbar=Toolbar(toolitems=[('Home', 'Reset original view', 'home', 'home'), ('Back', 'Back to previous …"
      ]
     },
     "metadata": {},
     "output_type": "display_data"
    }
   ],
   "source": [
    "# remove from E<2.0 MeV from data and check radial distribution\n",
    "sel = np.setdiff1d(data.pevent.unique(), df.pevent.unique())\n",
    "\n",
    "sel = data.set_index(\"pevent\").loc[sel]\n",
    "\n",
    "rcut = 460\n",
    "\n",
    "plt.figure()\n",
    "plt.hist2d(sel[\"x\"], sel[\"y\"], bins=100);\n",
    "theta = np.linspace(0, 2*np.pi, 100)\n",
    "plt.plot(rcut*np.cos(theta), rcut*np.sin(theta), c=\"r\")\n",
    "plt.xlabel(\"X (mm)\")\n",
    "plt.ylabel(\"Y (mm)\");"
   ]
  },
  {
   "cell_type": "code",
   "execution_count": null,
   "id": "ea096b0c",
   "metadata": {},
   "outputs": [],
   "source": []
  },
  {
   "cell_type": "code",
   "execution_count": null,
   "id": "01fbe6c3",
   "metadata": {},
   "outputs": [],
   "source": []
  },
  {
   "cell_type": "code",
   "execution_count": null,
   "id": "a7c4845d",
   "metadata": {},
   "outputs": [],
   "source": []
  },
  {
   "cell_type": "markdown",
   "id": "0a2b0379",
   "metadata": {},
   "source": [
    "**Conclusion**:\n",
    "\n",
    "The E>2.0 MeV removes not only degraded energy events due to worse border collection efficiency, but also takes off the z<15 mm no-S1 events (since I set $s1nmin=0$ in the processing). Why the degradation? Check/Improve Kr map"
   ]
  },
  {
   "cell_type": "code",
   "execution_count": null,
   "id": "da1f88a4",
   "metadata": {},
   "outputs": [],
   "source": []
  },
  {
   "cell_type": "code",
   "execution_count": null,
   "id": "ae274479",
   "metadata": {},
   "outputs": [],
   "source": []
  },
  {
   "cell_type": "code",
   "execution_count": null,
   "id": "14bbc9ba",
   "metadata": {},
   "outputs": [],
   "source": []
  },
  {
   "cell_type": "code",
   "execution_count": null,
   "id": "41ff5a22",
   "metadata": {},
   "outputs": [],
   "source": []
  },
  {
   "cell_type": "code",
   "execution_count": null,
   "id": "cc8b45f0",
   "metadata": {},
   "outputs": [],
   "source": []
  },
  {
   "cell_type": "code",
   "execution_count": null,
   "id": "b5443125",
   "metadata": {},
   "outputs": [],
   "source": []
  },
  {
   "cell_type": "code",
   "execution_count": 15,
   "id": "7d86f74d",
   "metadata": {},
   "outputs": [],
   "source": [
    "df = data"
   ]
  },
  {
   "cell_type": "code",
   "execution_count": 16,
   "id": "a8aa023b",
   "metadata": {},
   "outputs": [],
   "source": [
    "background = \"214Bi\"\n",
    "region     = \"SIPM_BOARD\"\n",
    "\n",
    "selected_events = df[(df[\"background\"]==background) & (df[\"region\"] == region)]"
   ]
  },
  {
   "cell_type": "code",
   "execution_count": 17,
   "id": "32584638",
   "metadata": {},
   "outputs": [
    {
     "data": {
      "text/html": [
       "<div>\n",
       "<style scoped>\n",
       "    .dataframe tbody tr th:only-of-type {\n",
       "        vertical-align: middle;\n",
       "    }\n",
       "\n",
       "    .dataframe tbody tr th {\n",
       "        vertical-align: top;\n",
       "    }\n",
       "\n",
       "    .dataframe thead th {\n",
       "        text-align: right;\n",
       "    }\n",
       "</style>\n",
       "<table border=\"1\" class=\"dataframe\">\n",
       "  <thead>\n",
       "    <tr style=\"text-align: right;\">\n",
       "      <th></th>\n",
       "      <th>pevent</th>\n",
       "      <th>event</th>\n",
       "      <th>background</th>\n",
       "      <th>region</th>\n",
       "      <th>peak</th>\n",
       "      <th>track</th>\n",
       "      <th>out_of_map</th>\n",
       "      <th>nvoxels</th>\n",
       "      <th>nhits</th>\n",
       "      <th>length</th>\n",
       "      <th>...</th>\n",
       "      <th>yb1</th>\n",
       "      <th>zb1</th>\n",
       "      <th>eb1</th>\n",
       "      <th>xb2</th>\n",
       "      <th>yb2</th>\n",
       "      <th>zb2</th>\n",
       "      <th>eb2</th>\n",
       "      <th>ovlp_e</th>\n",
       "      <th>nfile</th>\n",
       "      <th>component</th>\n",
       "    </tr>\n",
       "  </thead>\n",
       "  <tbody>\n",
       "    <tr>\n",
       "      <th>19527</th>\n",
       "      <td>94264</td>\n",
       "      <td>16240604</td>\n",
       "      <td>214Bi</td>\n",
       "      <td>SIPM_BOARD</td>\n",
       "      <td>0</td>\n",
       "      <td>0</td>\n",
       "      <td>False</td>\n",
       "      <td>5</td>\n",
       "      <td>2124</td>\n",
       "      <td>19.000000</td>\n",
       "      <td>...</td>\n",
       "      <td>138.709344</td>\n",
       "      <td>4.066629</td>\n",
       "      <td>0.293169</td>\n",
       "      <td>102.795644</td>\n",
       "      <td>138.041675</td>\n",
       "      <td>4.652057</td>\n",
       "      <td>0.289461</td>\n",
       "      <td>0.289311</td>\n",
       "      <td>101</td>\n",
       "      <td>Tracking Plane</td>\n",
       "    </tr>\n",
       "    <tr>\n",
       "      <th>19528</th>\n",
       "      <td>87511</td>\n",
       "      <td>16240614</td>\n",
       "      <td>214Bi</td>\n",
       "      <td>SIPM_BOARD</td>\n",
       "      <td>0</td>\n",
       "      <td>0</td>\n",
       "      <td>False</td>\n",
       "      <td>108</td>\n",
       "      <td>10002</td>\n",
       "      <td>198.360278</td>\n",
       "      <td>...</td>\n",
       "      <td>225.158760</td>\n",
       "      <td>896.458839</td>\n",
       "      <td>0.761956</td>\n",
       "      <td>358.715346</td>\n",
       "      <td>311.452777</td>\n",
       "      <td>848.367283</td>\n",
       "      <td>0.153109</td>\n",
       "      <td>0.000000</td>\n",
       "      <td>101</td>\n",
       "      <td>Tracking Plane</td>\n",
       "    </tr>\n",
       "    <tr>\n",
       "      <th>19529</th>\n",
       "      <td>115968</td>\n",
       "      <td>16240620</td>\n",
       "      <td>214Bi</td>\n",
       "      <td>SIPM_BOARD</td>\n",
       "      <td>0</td>\n",
       "      <td>0</td>\n",
       "      <td>False</td>\n",
       "      <td>101</td>\n",
       "      <td>6400</td>\n",
       "      <td>190.035962</td>\n",
       "      <td>...</td>\n",
       "      <td>324.446132</td>\n",
       "      <td>624.492953</td>\n",
       "      <td>0.869056</td>\n",
       "      <td>-120.721077</td>\n",
       "      <td>317.460283</td>\n",
       "      <td>468.894390</td>\n",
       "      <td>0.033150</td>\n",
       "      <td>0.000000</td>\n",
       "      <td>101</td>\n",
       "      <td>Tracking Plane</td>\n",
       "    </tr>\n",
       "    <tr>\n",
       "      <th>19530</th>\n",
       "      <td>115968</td>\n",
       "      <td>16240620</td>\n",
       "      <td>214Bi</td>\n",
       "      <td>SIPM_BOARD</td>\n",
       "      <td>0</td>\n",
       "      <td>1</td>\n",
       "      <td>False</td>\n",
       "      <td>13</td>\n",
       "      <td>2132</td>\n",
       "      <td>26.145973</td>\n",
       "      <td>...</td>\n",
       "      <td>296.244666</td>\n",
       "      <td>472.400537</td>\n",
       "      <td>0.636701</td>\n",
       "      <td>-167.208739</td>\n",
       "      <td>281.610423</td>\n",
       "      <td>472.053092</td>\n",
       "      <td>0.636102</td>\n",
       "      <td>0.628525</td>\n",
       "      <td>101</td>\n",
       "      <td>Tracking Plane</td>\n",
       "    </tr>\n",
       "    <tr>\n",
       "      <th>19531</th>\n",
       "      <td>165528</td>\n",
       "      <td>16240624</td>\n",
       "      <td>214Bi</td>\n",
       "      <td>SIPM_BOARD</td>\n",
       "      <td>0</td>\n",
       "      <td>0</td>\n",
       "      <td>False</td>\n",
       "      <td>103</td>\n",
       "      <td>9613</td>\n",
       "      <td>277.725830</td>\n",
       "      <td>...</td>\n",
       "      <td>181.712262</td>\n",
       "      <td>522.490643</td>\n",
       "      <td>0.856522</td>\n",
       "      <td>-211.631316</td>\n",
       "      <td>49.809357</td>\n",
       "      <td>552.321046</td>\n",
       "      <td>0.145400</td>\n",
       "      <td>0.000000</td>\n",
       "      <td>101</td>\n",
       "      <td>Tracking Plane</td>\n",
       "    </tr>\n",
       "    <tr>\n",
       "      <th>...</th>\n",
       "      <td>...</td>\n",
       "      <td>...</td>\n",
       "      <td>...</td>\n",
       "      <td>...</td>\n",
       "      <td>...</td>\n",
       "      <td>...</td>\n",
       "      <td>...</td>\n",
       "      <td>...</td>\n",
       "      <td>...</td>\n",
       "      <td>...</td>\n",
       "      <td>...</td>\n",
       "      <td>...</td>\n",
       "      <td>...</td>\n",
       "      <td>...</td>\n",
       "      <td>...</td>\n",
       "      <td>...</td>\n",
       "      <td>...</td>\n",
       "      <td>...</td>\n",
       "      <td>...</td>\n",
       "      <td>...</td>\n",
       "      <td>...</td>\n",
       "    </tr>\n",
       "    <tr>\n",
       "      <th>22413</th>\n",
       "      <td>157720</td>\n",
       "      <td>18974214</td>\n",
       "      <td>214Bi</td>\n",
       "      <td>SIPM_BOARD</td>\n",
       "      <td>0</td>\n",
       "      <td>0</td>\n",
       "      <td>False</td>\n",
       "      <td>119</td>\n",
       "      <td>9834</td>\n",
       "      <td>214.982271</td>\n",
       "      <td>...</td>\n",
       "      <td>-119.393249</td>\n",
       "      <td>212.951994</td>\n",
       "      <td>0.576943</td>\n",
       "      <td>155.679146</td>\n",
       "      <td>-93.777365</td>\n",
       "      <td>69.425743</td>\n",
       "      <td>0.138223</td>\n",
       "      <td>0.000000</td>\n",
       "      <td>118</td>\n",
       "      <td>Tracking Plane</td>\n",
       "    </tr>\n",
       "    <tr>\n",
       "      <th>22414</th>\n",
       "      <td>107349</td>\n",
       "      <td>18974222</td>\n",
       "      <td>214Bi</td>\n",
       "      <td>SIPM_BOARD</td>\n",
       "      <td>0</td>\n",
       "      <td>0</td>\n",
       "      <td>False</td>\n",
       "      <td>126</td>\n",
       "      <td>10197</td>\n",
       "      <td>243.816205</td>\n",
       "      <td>...</td>\n",
       "      <td>4.847559</td>\n",
       "      <td>159.176740</td>\n",
       "      <td>0.780156</td>\n",
       "      <td>6.236299</td>\n",
       "      <td>5.597114</td>\n",
       "      <td>32.464625</td>\n",
       "      <td>0.074721</td>\n",
       "      <td>0.000000</td>\n",
       "      <td>118</td>\n",
       "      <td>Tracking Plane</td>\n",
       "    </tr>\n",
       "    <tr>\n",
       "      <th>22415</th>\n",
       "      <td>69674</td>\n",
       "      <td>18974244</td>\n",
       "      <td>214Bi</td>\n",
       "      <td>SIPM_BOARD</td>\n",
       "      <td>0</td>\n",
       "      <td>0</td>\n",
       "      <td>False</td>\n",
       "      <td>76</td>\n",
       "      <td>8186</td>\n",
       "      <td>161.729404</td>\n",
       "      <td>...</td>\n",
       "      <td>230.413300</td>\n",
       "      <td>183.044149</td>\n",
       "      <td>0.822928</td>\n",
       "      <td>-163.219459</td>\n",
       "      <td>302.601331</td>\n",
       "      <td>134.863768</td>\n",
       "      <td>0.082726</td>\n",
       "      <td>0.000000</td>\n",
       "      <td>118</td>\n",
       "      <td>Tracking Plane</td>\n",
       "    </tr>\n",
       "    <tr>\n",
       "      <th>22416</th>\n",
       "      <td>69674</td>\n",
       "      <td>18974244</td>\n",
       "      <td>214Bi</td>\n",
       "      <td>SIPM_BOARD</td>\n",
       "      <td>0</td>\n",
       "      <td>1</td>\n",
       "      <td>False</td>\n",
       "      <td>9</td>\n",
       "      <td>1513</td>\n",
       "      <td>22.819405</td>\n",
       "      <td>...</td>\n",
       "      <td>371.035008</td>\n",
       "      <td>147.013397</td>\n",
       "      <td>0.495516</td>\n",
       "      <td>-147.045498</td>\n",
       "      <td>377.062627</td>\n",
       "      <td>146.971422</td>\n",
       "      <td>0.495516</td>\n",
       "      <td>0.495516</td>\n",
       "      <td>118</td>\n",
       "      <td>Tracking Plane</td>\n",
       "    </tr>\n",
       "    <tr>\n",
       "      <th>22417</th>\n",
       "      <td>183767</td>\n",
       "      <td>18974246</td>\n",
       "      <td>214Bi</td>\n",
       "      <td>SIPM_BOARD</td>\n",
       "      <td>0</td>\n",
       "      <td>0</td>\n",
       "      <td>False</td>\n",
       "      <td>133</td>\n",
       "      <td>9733</td>\n",
       "      <td>165.704816</td>\n",
       "      <td>...</td>\n",
       "      <td>57.280987</td>\n",
       "      <td>457.377783</td>\n",
       "      <td>0.682584</td>\n",
       "      <td>-4.701594</td>\n",
       "      <td>82.591153</td>\n",
       "      <td>368.794976</td>\n",
       "      <td>0.102443</td>\n",
       "      <td>0.000000</td>\n",
       "      <td>118</td>\n",
       "      <td>Tracking Plane</td>\n",
       "    </tr>\n",
       "  </tbody>\n",
       "</table>\n",
       "<p>2891 rows × 34 columns</p>\n",
       "</div>"
      ],
      "text/plain": [
       "       pevent     event background      region  peak  track  out_of_map  \\\n",
       "19527   94264  16240604      214Bi  SIPM_BOARD     0      0       False   \n",
       "19528   87511  16240614      214Bi  SIPM_BOARD     0      0       False   \n",
       "19529  115968  16240620      214Bi  SIPM_BOARD     0      0       False   \n",
       "19530  115968  16240620      214Bi  SIPM_BOARD     0      1       False   \n",
       "19531  165528  16240624      214Bi  SIPM_BOARD     0      0       False   \n",
       "...       ...       ...        ...         ...   ...    ...         ...   \n",
       "22413  157720  18974214      214Bi  SIPM_BOARD     0      0       False   \n",
       "22414  107349  18974222      214Bi  SIPM_BOARD     0      0       False   \n",
       "22415   69674  18974244      214Bi  SIPM_BOARD     0      0       False   \n",
       "22416   69674  18974244      214Bi  SIPM_BOARD     0      1       False   \n",
       "22417  183767  18974246      214Bi  SIPM_BOARD     0      0       False   \n",
       "\n",
       "       nvoxels  nhits      length  ...         yb1         zb1       eb1  \\\n",
       "19527        5   2124   19.000000  ...  138.709344    4.066629  0.293169   \n",
       "19528      108  10002  198.360278  ...  225.158760  896.458839  0.761956   \n",
       "19529      101   6400  190.035962  ...  324.446132  624.492953  0.869056   \n",
       "19530       13   2132   26.145973  ...  296.244666  472.400537  0.636701   \n",
       "19531      103   9613  277.725830  ...  181.712262  522.490643  0.856522   \n",
       "...        ...    ...         ...  ...         ...         ...       ...   \n",
       "22413      119   9834  214.982271  ... -119.393249  212.951994  0.576943   \n",
       "22414      126  10197  243.816205  ...    4.847559  159.176740  0.780156   \n",
       "22415       76   8186  161.729404  ...  230.413300  183.044149  0.822928   \n",
       "22416        9   1513   22.819405  ...  371.035008  147.013397  0.495516   \n",
       "22417      133   9733  165.704816  ...   57.280987  457.377783  0.682584   \n",
       "\n",
       "              xb2         yb2         zb2       eb2    ovlp_e  nfile  \\\n",
       "19527  102.795644  138.041675    4.652057  0.289461  0.289311    101   \n",
       "19528  358.715346  311.452777  848.367283  0.153109  0.000000    101   \n",
       "19529 -120.721077  317.460283  468.894390  0.033150  0.000000    101   \n",
       "19530 -167.208739  281.610423  472.053092  0.636102  0.628525    101   \n",
       "19531 -211.631316   49.809357  552.321046  0.145400  0.000000    101   \n",
       "...           ...         ...         ...       ...       ...    ...   \n",
       "22413  155.679146  -93.777365   69.425743  0.138223  0.000000    118   \n",
       "22414    6.236299    5.597114   32.464625  0.074721  0.000000    118   \n",
       "22415 -163.219459  302.601331  134.863768  0.082726  0.000000    118   \n",
       "22416 -147.045498  377.062627  146.971422  0.495516  0.495516    118   \n",
       "22417   -4.701594   82.591153  368.794976  0.102443  0.000000    118   \n",
       "\n",
       "            component  \n",
       "19527  Tracking Plane  \n",
       "19528  Tracking Plane  \n",
       "19529  Tracking Plane  \n",
       "19530  Tracking Plane  \n",
       "19531  Tracking Plane  \n",
       "...               ...  \n",
       "22413  Tracking Plane  \n",
       "22414  Tracking Plane  \n",
       "22415  Tracking Plane  \n",
       "22416  Tracking Plane  \n",
       "22417  Tracking Plane  \n",
       "\n",
       "[2891 rows x 34 columns]"
      ]
     },
     "execution_count": 17,
     "metadata": {},
     "output_type": "execute_result"
    }
   ],
   "source": [
    "selected_events"
   ]
  },
  {
   "cell_type": "code",
   "execution_count": 18,
   "id": "9e6ec329",
   "metadata": {},
   "outputs": [
    {
     "name": "stdout",
     "output_type": "stream",
     "text": [
      "Event: 16562238\n"
     ]
    }
   ],
   "source": [
    "event = np.random.choice(selected_events.event.unique())\n",
    "print(\"Event:\", event)\n",
    "\n",
    "sample = df[df[\"event\"]==event]\n",
    "\n",
    "# sample = selected_events.sample(1)\n",
    "\n",
    "ntracks = sample.track.nunique()\n",
    "event   = sample.event.values[0]\n",
    "nfile   = sample.nfile.values[0]"
   ]
  },
  {
   "cell_type": "code",
   "execution_count": 29,
   "id": "4896b5f1",
   "metadata": {},
   "outputs": [
    {
     "ename": "AttributeError",
     "evalue": "'NoneType' object has no attribute 'set_index'",
     "output_type": "error",
     "traceback": [
      "\u001b[0;31m---------------------------------------------------------------------------\u001b[0m",
      "\u001b[0;31mAttributeError\u001b[0m                            Traceback (most recent call last)",
      "\u001b[0;32m<ipython-input-29-36032d7e8375>\u001b[0m in \u001b[0;36m<module>\u001b[0;34m\u001b[0m\n\u001b[1;32m      2\u001b[0m                 .replace(\"/pdata/pdata_*\", f\"/beersheba/beersheba_{nfile}_{background}\"))\n\u001b[1;32m      3\u001b[0m \u001b[0;34m\u001b[0m\u001b[0m\n\u001b[0;32m----> 4\u001b[0;31m \u001b[0meventMap\u001b[0m    \u001b[0;34m=\u001b[0m \u001b[0mload_dst\u001b[0m\u001b[0;34m(\u001b[0m\u001b[0mfilename\u001b[0m\u001b[0;34m,\u001b[0m \u001b[0;34m\"Run\"\u001b[0m\u001b[0;34m,\u001b[0m \u001b[0;34m\"eventMap\"\u001b[0m\u001b[0;34m)\u001b[0m\u001b[0;34m.\u001b[0m\u001b[0mset_index\u001b[0m\u001b[0;34m(\u001b[0m\u001b[0;34m\"evt_number\"\u001b[0m\u001b[0;34m)\u001b[0m\u001b[0;34m\u001b[0m\u001b[0;34m\u001b[0m\u001b[0m\n\u001b[0m\u001b[1;32m      5\u001b[0m \u001b[0;34m\u001b[0m\u001b[0m\n\u001b[1;32m      6\u001b[0m \u001b[0mmchits\u001b[0m      \u001b[0;34m=\u001b[0m \u001b[0mload_dst\u001b[0m\u001b[0;34m(\u001b[0m\u001b[0mfilename\u001b[0m\u001b[0;34m,\u001b[0m  \u001b[0;34m\"MC\"\u001b[0m\u001b[0;34m,\u001b[0m \u001b[0;34m\"hits\"\u001b[0m\u001b[0;34m)\u001b[0m     \u001b[0;34m.\u001b[0m\u001b[0mset_index\u001b[0m\u001b[0;34m(\u001b[0m\u001b[0;34m\"event_id\"\u001b[0m\u001b[0;34m)\u001b[0m\u001b[0;34m.\u001b[0m\u001b[0mloc\u001b[0m\u001b[0;34m[\u001b[0m\u001b[0meventMap\u001b[0m\u001b[0;34m.\u001b[0m\u001b[0mloc\u001b[0m\u001b[0;34m[\u001b[0m\u001b[0mevent\u001b[0m\u001b[0;34m]\u001b[0m\u001b[0;34m]\u001b[0m\u001b[0;34m\u001b[0m\u001b[0;34m\u001b[0m\u001b[0m\n",
      "\u001b[0;31mAttributeError\u001b[0m: 'NoneType' object has no attribute 'set_index'"
     ]
    }
   ],
   "source": [
    "filename = (path.format(background=background, region=region)\n",
    "                .replace(\"/pdata/pdata_*\", f\"/beersheba/beersheba_{nfile}_{background}\"))\n",
    "\n",
    "eventMap    = load_dst(filename, \"Run\", \"eventMap\").set_index(\"evt_number\")\n",
    "\n",
    "mchits      = load_dst(filename,  \"MC\", \"hits\")     .set_index(\"event_id\").loc[eventMap.loc[event]]\n",
    "mcparticles = load_dst(filename,  \"MC\", \"particles\").set_index(\"event_id\").loc[eventMap.loc[event]]\n",
    "\n",
    "deco = pd.read_hdf(filename, \"DECO/Events\").set_index(\"event\").loc[event]"
   ]
  },
  {
   "cell_type": "code",
   "execution_count": 43,
   "id": "eee1934a",
   "metadata": {},
   "outputs": [
    {
     "data": {
      "text/html": [
       "<div>\n",
       "<style scoped>\n",
       "    .dataframe tbody tr th:only-of-type {\n",
       "        vertical-align: middle;\n",
       "    }\n",
       "\n",
       "    .dataframe tbody tr th {\n",
       "        vertical-align: top;\n",
       "    }\n",
       "\n",
       "    .dataframe thead th {\n",
       "        text-align: right;\n",
       "    }\n",
       "</style>\n",
       "<table border=\"1\" class=\"dataframe\">\n",
       "  <thead>\n",
       "    <tr style=\"text-align: right;\">\n",
       "      <th></th>\n",
       "      <th>particle_name</th>\n",
       "      <th>particle_id</th>\n",
       "      <th>kin_energy</th>\n",
       "      <th>creator_proc</th>\n",
       "      <th>final_proc</th>\n",
       "      <th>mother_id</th>\n",
       "    </tr>\n",
       "    <tr>\n",
       "      <th>event_id</th>\n",
       "      <th></th>\n",
       "      <th></th>\n",
       "      <th></th>\n",
       "      <th></th>\n",
       "      <th></th>\n",
       "      <th></th>\n",
       "    </tr>\n",
       "  </thead>\n",
       "  <tbody>\n",
       "    <tr>\n",
       "      <th>3698370</th>\n",
       "      <td>Bi214</td>\n",
       "      <td>1</td>\n",
       "      <td>0.000000</td>\n",
       "      <td>none</td>\n",
       "      <td>RadioactiveDecayBase</td>\n",
       "      <td>0</td>\n",
       "    </tr>\n",
       "    <tr>\n",
       "      <th>3698370</th>\n",
       "      <td>Po214</td>\n",
       "      <td>2</td>\n",
       "      <td>0.000033</td>\n",
       "      <td>RadioactiveDecayBase</td>\n",
       "      <td>RadioactiveDecayBase</td>\n",
       "      <td>1</td>\n",
       "    </tr>\n",
       "    <tr>\n",
       "      <th>3698370</th>\n",
       "      <td>anti_nu_e</td>\n",
       "      <td>3</td>\n",
       "      <td>0.533635</td>\n",
       "      <td>RadioactiveDecayBase</td>\n",
       "      <td>Transportation</td>\n",
       "      <td>1</td>\n",
       "    </tr>\n",
       "    <tr>\n",
       "      <th>3698370</th>\n",
       "      <td>e-</td>\n",
       "      <td>4</td>\n",
       "      <td>2.736132</td>\n",
       "      <td>RadioactiveDecayBase</td>\n",
       "      <td>eIoni</td>\n",
       "      <td>1</td>\n",
       "    </tr>\n",
       "    <tr>\n",
       "      <th>3698370</th>\n",
       "      <td>e-</td>\n",
       "      <td>5</td>\n",
       "      <td>0.053873</td>\n",
       "      <td>eIoni</td>\n",
       "      <td>eIoni</td>\n",
       "      <td>4</td>\n",
       "    </tr>\n",
       "    <tr>\n",
       "      <th>3698370</th>\n",
       "      <td>e-</td>\n",
       "      <td>6</td>\n",
       "      <td>0.072742</td>\n",
       "      <td>eIoni</td>\n",
       "      <td>eIoni</td>\n",
       "      <td>4</td>\n",
       "    </tr>\n",
       "    <tr>\n",
       "      <th>3698370</th>\n",
       "      <td>e-</td>\n",
       "      <td>7</td>\n",
       "      <td>0.107021</td>\n",
       "      <td>eIoni</td>\n",
       "      <td>eIoni</td>\n",
       "      <td>4</td>\n",
       "    </tr>\n",
       "    <tr>\n",
       "      <th>3698370</th>\n",
       "      <td>e-</td>\n",
       "      <td>8</td>\n",
       "      <td>0.038209</td>\n",
       "      <td>eIoni</td>\n",
       "      <td>eIoni</td>\n",
       "      <td>4</td>\n",
       "    </tr>\n",
       "    <tr>\n",
       "      <th>3698370</th>\n",
       "      <td>gamma</td>\n",
       "      <td>9</td>\n",
       "      <td>0.235864</td>\n",
       "      <td>eBrem</td>\n",
       "      <td>phot</td>\n",
       "      <td>4</td>\n",
       "    </tr>\n",
       "    <tr>\n",
       "      <th>3698370</th>\n",
       "      <td>e-</td>\n",
       "      <td>10</td>\n",
       "      <td>0.201308</td>\n",
       "      <td>phot</td>\n",
       "      <td>eIoni</td>\n",
       "      <td>9</td>\n",
       "    </tr>\n",
       "    <tr>\n",
       "      <th>3698370</th>\n",
       "      <td>gamma</td>\n",
       "      <td>11</td>\n",
       "      <td>0.029781</td>\n",
       "      <td>phot</td>\n",
       "      <td>phot</td>\n",
       "      <td>9</td>\n",
       "    </tr>\n",
       "    <tr>\n",
       "      <th>3698370</th>\n",
       "      <td>gamma</td>\n",
       "      <td>12</td>\n",
       "      <td>0.004097</td>\n",
       "      <td>phot</td>\n",
       "      <td>phot</td>\n",
       "      <td>9</td>\n",
       "    </tr>\n",
       "    <tr>\n",
       "      <th>3698370</th>\n",
       "      <td>e-</td>\n",
       "      <td>13</td>\n",
       "      <td>0.000369</td>\n",
       "      <td>phot</td>\n",
       "      <td>eIoni</td>\n",
       "      <td>9</td>\n",
       "    </tr>\n",
       "    <tr>\n",
       "      <th>3698370</th>\n",
       "      <td>e-</td>\n",
       "      <td>14</td>\n",
       "      <td>0.000079</td>\n",
       "      <td>phot</td>\n",
       "      <td>msc</td>\n",
       "      <td>9</td>\n",
       "    </tr>\n",
       "    <tr>\n",
       "      <th>3698370</th>\n",
       "      <td>e-</td>\n",
       "      <td>15</td>\n",
       "      <td>0.000010</td>\n",
       "      <td>phot</td>\n",
       "      <td>eIoni</td>\n",
       "      <td>9</td>\n",
       "    </tr>\n",
       "    <tr>\n",
       "      <th>3698370</th>\n",
       "      <td>e-</td>\n",
       "      <td>16</td>\n",
       "      <td>0.000045</td>\n",
       "      <td>phot</td>\n",
       "      <td>msc</td>\n",
       "      <td>9</td>\n",
       "    </tr>\n",
       "    <tr>\n",
       "      <th>3698370</th>\n",
       "      <td>e-</td>\n",
       "      <td>17</td>\n",
       "      <td>0.000045</td>\n",
       "      <td>phot</td>\n",
       "      <td>msc</td>\n",
       "      <td>9</td>\n",
       "    </tr>\n",
       "    <tr>\n",
       "      <th>3698370</th>\n",
       "      <td>e-</td>\n",
       "      <td>18</td>\n",
       "      <td>0.000033</td>\n",
       "      <td>phot</td>\n",
       "      <td>msc</td>\n",
       "      <td>9</td>\n",
       "    </tr>\n",
       "    <tr>\n",
       "      <th>3698370</th>\n",
       "      <td>e-</td>\n",
       "      <td>19</td>\n",
       "      <td>0.003171</td>\n",
       "      <td>phot</td>\n",
       "      <td>eIoni</td>\n",
       "      <td>12</td>\n",
       "    </tr>\n",
       "    <tr>\n",
       "      <th>3698370</th>\n",
       "      <td>e-</td>\n",
       "      <td>20</td>\n",
       "      <td>0.000101</td>\n",
       "      <td>phot</td>\n",
       "      <td>msc</td>\n",
       "      <td>12</td>\n",
       "    </tr>\n",
       "    <tr>\n",
       "      <th>3698370</th>\n",
       "      <td>e-</td>\n",
       "      <td>21</td>\n",
       "      <td>0.000449</td>\n",
       "      <td>phot</td>\n",
       "      <td>eIoni</td>\n",
       "      <td>12</td>\n",
       "    </tr>\n",
       "    <tr>\n",
       "      <th>3698370</th>\n",
       "      <td>e-</td>\n",
       "      <td>22</td>\n",
       "      <td>0.000012</td>\n",
       "      <td>phot</td>\n",
       "      <td>msc</td>\n",
       "      <td>12</td>\n",
       "    </tr>\n",
       "    <tr>\n",
       "      <th>3698370</th>\n",
       "      <td>e-</td>\n",
       "      <td>23</td>\n",
       "      <td>0.000023</td>\n",
       "      <td>phot</td>\n",
       "      <td>msc</td>\n",
       "      <td>12</td>\n",
       "    </tr>\n",
       "    <tr>\n",
       "      <th>3698370</th>\n",
       "      <td>e-</td>\n",
       "      <td>24</td>\n",
       "      <td>0.000021</td>\n",
       "      <td>phot</td>\n",
       "      <td>eIoni</td>\n",
       "      <td>12</td>\n",
       "    </tr>\n",
       "    <tr>\n",
       "      <th>3698370</th>\n",
       "      <td>e-</td>\n",
       "      <td>25</td>\n",
       "      <td>0.000021</td>\n",
       "      <td>phot</td>\n",
       "      <td>msc</td>\n",
       "      <td>12</td>\n",
       "    </tr>\n",
       "    <tr>\n",
       "      <th>3698370</th>\n",
       "      <td>e-</td>\n",
       "      <td>26</td>\n",
       "      <td>0.000033</td>\n",
       "      <td>phot</td>\n",
       "      <td>msc</td>\n",
       "      <td>12</td>\n",
       "    </tr>\n",
       "    <tr>\n",
       "      <th>3698370</th>\n",
       "      <td>e-</td>\n",
       "      <td>27</td>\n",
       "      <td>0.000047</td>\n",
       "      <td>phot</td>\n",
       "      <td>msc</td>\n",
       "      <td>12</td>\n",
       "    </tr>\n",
       "    <tr>\n",
       "      <th>3698370</th>\n",
       "      <td>e-</td>\n",
       "      <td>28</td>\n",
       "      <td>0.000021</td>\n",
       "      <td>phot</td>\n",
       "      <td>eIoni</td>\n",
       "      <td>12</td>\n",
       "    </tr>\n",
       "    <tr>\n",
       "      <th>3698370</th>\n",
       "      <td>e-</td>\n",
       "      <td>29</td>\n",
       "      <td>0.025007</td>\n",
       "      <td>phot</td>\n",
       "      <td>eIoni</td>\n",
       "      <td>11</td>\n",
       "    </tr>\n",
       "    <tr>\n",
       "      <th>3698370</th>\n",
       "      <td>e-</td>\n",
       "      <td>30</td>\n",
       "      <td>0.003406</td>\n",
       "      <td>phot</td>\n",
       "      <td>eIoni</td>\n",
       "      <td>11</td>\n",
       "    </tr>\n",
       "    <tr>\n",
       "      <th>3698370</th>\n",
       "      <td>e-</td>\n",
       "      <td>31</td>\n",
       "      <td>0.000460</td>\n",
       "      <td>phot</td>\n",
       "      <td>eIoni</td>\n",
       "      <td>11</td>\n",
       "    </tr>\n",
       "    <tr>\n",
       "      <th>3698370</th>\n",
       "      <td>e-</td>\n",
       "      <td>32</td>\n",
       "      <td>0.000540</td>\n",
       "      <td>phot</td>\n",
       "      <td>eIoni</td>\n",
       "      <td>11</td>\n",
       "    </tr>\n",
       "    <tr>\n",
       "      <th>3698370</th>\n",
       "      <td>e-</td>\n",
       "      <td>33</td>\n",
       "      <td>0.000023</td>\n",
       "      <td>phot</td>\n",
       "      <td>msc</td>\n",
       "      <td>11</td>\n",
       "    </tr>\n",
       "    <tr>\n",
       "      <th>3698370</th>\n",
       "      <td>e-</td>\n",
       "      <td>34</td>\n",
       "      <td>0.000047</td>\n",
       "      <td>phot</td>\n",
       "      <td>msc</td>\n",
       "      <td>11</td>\n",
       "    </tr>\n",
       "    <tr>\n",
       "      <th>3698370</th>\n",
       "      <td>e-</td>\n",
       "      <td>35</td>\n",
       "      <td>0.000048</td>\n",
       "      <td>phot</td>\n",
       "      <td>msc</td>\n",
       "      <td>11</td>\n",
       "    </tr>\n",
       "    <tr>\n",
       "      <th>3698370</th>\n",
       "      <td>e-</td>\n",
       "      <td>36</td>\n",
       "      <td>0.000044</td>\n",
       "      <td>phot</td>\n",
       "      <td>eIoni</td>\n",
       "      <td>11</td>\n",
       "    </tr>\n",
       "    <tr>\n",
       "      <th>3698370</th>\n",
       "      <td>e-</td>\n",
       "      <td>37</td>\n",
       "      <td>0.000045</td>\n",
       "      <td>phot</td>\n",
       "      <td>msc</td>\n",
       "      <td>11</td>\n",
       "    </tr>\n",
       "    <tr>\n",
       "      <th>3698370</th>\n",
       "      <td>e-</td>\n",
       "      <td>38</td>\n",
       "      <td>0.000046</td>\n",
       "      <td>phot</td>\n",
       "      <td>msc</td>\n",
       "      <td>11</td>\n",
       "    </tr>\n",
       "    <tr>\n",
       "      <th>3698370</th>\n",
       "      <td>Pb210</td>\n",
       "      <td>39</td>\n",
       "      <td>0.146663</td>\n",
       "      <td>RadioactiveDecayBase</td>\n",
       "      <td>RadioactiveDecayBase</td>\n",
       "      <td>2</td>\n",
       "    </tr>\n",
       "    <tr>\n",
       "      <th>3698370</th>\n",
       "      <td>alpha</td>\n",
       "      <td>40</td>\n",
       "      <td>7.686797</td>\n",
       "      <td>RadioactiveDecayBase</td>\n",
       "      <td>ionIoni</td>\n",
       "      <td>2</td>\n",
       "    </tr>\n",
       "  </tbody>\n",
       "</table>\n",
       "</div>"
      ],
      "text/plain": [
       "         particle_name  particle_id  kin_energy          creator_proc  \\\n",
       "event_id                                                                \n",
       "3698370          Bi214            1    0.000000                  none   \n",
       "3698370          Po214            2    0.000033  RadioactiveDecayBase   \n",
       "3698370      anti_nu_e            3    0.533635  RadioactiveDecayBase   \n",
       "3698370             e-            4    2.736132  RadioactiveDecayBase   \n",
       "3698370             e-            5    0.053873                 eIoni   \n",
       "3698370             e-            6    0.072742                 eIoni   \n",
       "3698370             e-            7    0.107021                 eIoni   \n",
       "3698370             e-            8    0.038209                 eIoni   \n",
       "3698370          gamma            9    0.235864                 eBrem   \n",
       "3698370             e-           10    0.201308                  phot   \n",
       "3698370          gamma           11    0.029781                  phot   \n",
       "3698370          gamma           12    0.004097                  phot   \n",
       "3698370             e-           13    0.000369                  phot   \n",
       "3698370             e-           14    0.000079                  phot   \n",
       "3698370             e-           15    0.000010                  phot   \n",
       "3698370             e-           16    0.000045                  phot   \n",
       "3698370             e-           17    0.000045                  phot   \n",
       "3698370             e-           18    0.000033                  phot   \n",
       "3698370             e-           19    0.003171                  phot   \n",
       "3698370             e-           20    0.000101                  phot   \n",
       "3698370             e-           21    0.000449                  phot   \n",
       "3698370             e-           22    0.000012                  phot   \n",
       "3698370             e-           23    0.000023                  phot   \n",
       "3698370             e-           24    0.000021                  phot   \n",
       "3698370             e-           25    0.000021                  phot   \n",
       "3698370             e-           26    0.000033                  phot   \n",
       "3698370             e-           27    0.000047                  phot   \n",
       "3698370             e-           28    0.000021                  phot   \n",
       "3698370             e-           29    0.025007                  phot   \n",
       "3698370             e-           30    0.003406                  phot   \n",
       "3698370             e-           31    0.000460                  phot   \n",
       "3698370             e-           32    0.000540                  phot   \n",
       "3698370             e-           33    0.000023                  phot   \n",
       "3698370             e-           34    0.000047                  phot   \n",
       "3698370             e-           35    0.000048                  phot   \n",
       "3698370             e-           36    0.000044                  phot   \n",
       "3698370             e-           37    0.000045                  phot   \n",
       "3698370             e-           38    0.000046                  phot   \n",
       "3698370          Pb210           39    0.146663  RadioactiveDecayBase   \n",
       "3698370          alpha           40    7.686797  RadioactiveDecayBase   \n",
       "\n",
       "                    final_proc  mother_id  \n",
       "event_id                                   \n",
       "3698370   RadioactiveDecayBase          0  \n",
       "3698370   RadioactiveDecayBase          1  \n",
       "3698370         Transportation          1  \n",
       "3698370                  eIoni          1  \n",
       "3698370                  eIoni          4  \n",
       "3698370                  eIoni          4  \n",
       "3698370                  eIoni          4  \n",
       "3698370                  eIoni          4  \n",
       "3698370                   phot          4  \n",
       "3698370                  eIoni          9  \n",
       "3698370                   phot          9  \n",
       "3698370                   phot          9  \n",
       "3698370                  eIoni          9  \n",
       "3698370                    msc          9  \n",
       "3698370                  eIoni          9  \n",
       "3698370                    msc          9  \n",
       "3698370                    msc          9  \n",
       "3698370                    msc          9  \n",
       "3698370                  eIoni         12  \n",
       "3698370                    msc         12  \n",
       "3698370                  eIoni         12  \n",
       "3698370                    msc         12  \n",
       "3698370                    msc         12  \n",
       "3698370                  eIoni         12  \n",
       "3698370                    msc         12  \n",
       "3698370                    msc         12  \n",
       "3698370                    msc         12  \n",
       "3698370                  eIoni         12  \n",
       "3698370                  eIoni         11  \n",
       "3698370                  eIoni         11  \n",
       "3698370                  eIoni         11  \n",
       "3698370                  eIoni         11  \n",
       "3698370                    msc         11  \n",
       "3698370                    msc         11  \n",
       "3698370                    msc         11  \n",
       "3698370                  eIoni         11  \n",
       "3698370                    msc         11  \n",
       "3698370                    msc         11  \n",
       "3698370   RadioactiveDecayBase          2  \n",
       "3698370                ionIoni          2  "
      ]
     },
     "execution_count": 43,
     "metadata": {},
     "output_type": "execute_result"
    }
   ],
   "source": [
    "mcparticles.loc[:, (\"particle_name\", \"particle_id\", \"kin_energy\",\n",
    "                    \"creator_proc\", \"final_proc\", \"mother_id\")].sort_values(\"particle_id\")"
   ]
  },
  {
   "cell_type": "code",
   "execution_count": 44,
   "id": "9245785a",
   "metadata": {},
   "outputs": [
    {
     "data": {
      "application/vnd.jupyter.widget-view+json": {
       "model_id": "240aacf2fe1445b1b98044c10fbcf06c",
       "version_major": 2,
       "version_minor": 0
      },
      "text/plain": [
       "Canvas(toolbar=Toolbar(toolitems=[('Home', 'Reset original view', 'home', 'home'), ('Back', 'Back to previous …"
      ]
     },
     "metadata": {},
     "output_type": "display_data"
    }
   ],
   "source": [
    "plt.figure()\n",
    "plt.scatter(mchits[\"x\"], mchits[\"y\"], s=10)\n",
    "plt.scatter(deco[\"X\"], deco[\"Y\"], s=10, alpha=0.1)\n",
    "\n",
    "r=492\n",
    "theta = np.linspace(0, 2*np.pi, 100)\n",
    "plt.plot(r*np.cos(theta), r*np.sin(theta), c=\"k\")\n",
    "\n",
    "r=400\n",
    "theta = np.linspace(0, 2*np.pi, 100)\n",
    "plt.plot(r*np.cos(theta), r*np.sin(theta), c=\"r\")\n",
    "plt.xlim([-500, 500])\n",
    "plt.ylim([-500, 500]);"
   ]
  },
  {
   "cell_type": "code",
   "execution_count": 46,
   "id": "ecad6d5f",
   "metadata": {},
   "outputs": [
    {
     "data": {
      "application/vnd.jupyter.widget-view+json": {
       "model_id": "e8b0dcb8ab554950be6996e32236a0c7",
       "version_major": 2,
       "version_minor": 0
      },
      "text/plain": [
       "Canvas(toolbar=Toolbar(toolitems=[('Home', 'Reset original view', 'home', 'home'), ('Back', 'Back to previous …"
      ]
     },
     "metadata": {},
     "output_type": "display_data"
    }
   ],
   "source": [
    "plt.figure()\n",
    "plt.scatter(mchits[\"z\"], mchits[\"y\"], s=10)\n",
    "plt.scatter(deco[\"Z\"], deco[\"Y\"], s=10, alpha=0.1)\n",
    "\n",
    "plt.ylim([-500, 500]);"
   ]
  },
  {
   "cell_type": "code",
   "execution_count": null,
   "id": "e28b7028",
   "metadata": {},
   "outputs": [],
   "source": []
  },
  {
   "cell_type": "code",
   "execution_count": 51,
   "id": "7603476a",
   "metadata": {},
   "outputs": [],
   "source": [
    "filename = (path.format(background=background, region=region)\n",
    "                .replace(\"/pdata/pdata_*\", f\"/penthesilea/penthesilea_{nfile}_{background}\"))\n",
    "\n",
    "reco = pd.read_hdf(filename, \"RECO/Events\").set_index(\"event\").loc[event]"
   ]
  },
  {
   "cell_type": "code",
   "execution_count": 53,
   "id": "61358e16",
   "metadata": {},
   "outputs": [
    {
     "data": {
      "application/vnd.jupyter.widget-view+json": {
       "model_id": "aebb1df823244cd9a80d539092ae197a",
       "version_major": 2,
       "version_minor": 0
      },
      "text/plain": [
       "Canvas(toolbar=Toolbar(toolitems=[('Home', 'Reset original view', 'home', 'home'), ('Back', 'Back to previous …"
      ]
     },
     "metadata": {},
     "output_type": "display_data"
    }
   ],
   "source": [
    "plt.figure()\n",
    "plt.scatter(mchits[\"z\"], mchits[\"y\"], s=10)\n",
    "plt.scatter(reco[\"Z\"], reco[\"Y\"], s=10, alpha=0.1)\n",
    "\n",
    "plt.ylim([-500, 500]);"
   ]
  },
  {
   "cell_type": "code",
   "execution_count": null,
   "id": "007dc403",
   "metadata": {},
   "outputs": [],
   "source": []
  },
  {
   "cell_type": "code",
   "execution_count": 93,
   "id": "3872893d",
   "metadata": {},
   "outputs": [],
   "source": [
    "filename = (path.format(background=background, region=region)\n",
    "                .replace(\"/pdata/pdata_*\", f\"/detsim/detsim_{nfile}_{background}\"))\n",
    "\n",
    "with tb.open_file(filename) as h5file:\n",
    "    evts = h5file.root.Run.events.read()[\"evt_number\"]\n",
    "    idx = np.argwhere(evts == event).flatten()[0]\n",
    "    pmtwfs = h5file.root.pmtrd[idx]\n",
    "    \n",
    "    \n",
    "filename = (path.format(background=background, region=region)\n",
    "                .replace(\"/pdata/pdata_*\", f\"/hypathia/hypathia_{nfile}_{background}\"))\n",
    "\n",
    "S1 = pd.read_hdf(filename, \"PMAPS/S1\").set_index(\"event\")\n",
    "S2 = pd.read_hdf(filename, \"PMAPS/S2\").set_index(\"event\").loc[event]"
   ]
  },
  {
   "cell_type": "code",
   "execution_count": null,
   "id": "9c4eed0b",
   "metadata": {},
   "outputs": [],
   "source": []
  },
  {
   "cell_type": "code",
   "execution_count": 105,
   "id": "e435b952",
   "metadata": {},
   "outputs": [
    {
     "data": {
      "application/vnd.jupyter.widget-view+json": {
       "model_id": "90aee966504249a1bf82aeccccbb1ecb",
       "version_major": 2,
       "version_minor": 0
      },
      "text/plain": [
       "Canvas(toolbar=Toolbar(toolitems=[('Home', 'Reset original view', 'home', 'home'), ('Back', 'Back to previous …"
      ]
     },
     "metadata": {},
     "output_type": "display_data"
    },
    {
     "data": {
      "text/plain": [
       "<matplotlib.collections.PathCollection at 0x7fb5c6ec59d0>"
      ]
     },
     "execution_count": 105,
     "metadata": {},
     "output_type": "execute_result"
    }
   ],
   "source": [
    "plt.figure()\n",
    "\n",
    "times = np.arange(0, pmtwfs.shape[-1])*25/1000\n",
    "plt.plot(times, np.sum(pmtwfs, axis=0)*40)\n",
    "\n",
    "plt.scatter(S2.time/1e3, S2.ene, s=20, c=\"r\")"
   ]
  },
  {
   "cell_type": "code",
   "execution_count": null,
   "id": "cbc2d67d",
   "metadata": {},
   "outputs": [],
   "source": []
  },
  {
   "cell_type": "code",
   "execution_count": null,
   "id": "0a2b5555",
   "metadata": {},
   "outputs": [],
   "source": []
  },
  {
   "cell_type": "code",
   "execution_count": null,
   "id": "71935493",
   "metadata": {},
   "outputs": [],
   "source": []
  }
 ],
 "metadata": {
  "kernelspec": {
   "display_name": "Python 3 (ipykernel)",
   "language": "python",
   "name": "python3"
  },
  "language_info": {
   "codemirror_mode": {
    "name": "ipython",
    "version": 3
   },
   "file_extension": ".py",
   "mimetype": "text/x-python",
   "name": "python",
   "nbconvert_exporter": "python",
   "pygments_lexer": "ipython3",
   "version": "3.8.13"
  }
 },
 "nbformat": 4,
 "nbformat_minor": 5
}
