{
 "cells": [
  {
   "cell_type": "code",
   "execution_count": 23,
   "id": "a851914a",
   "metadata": {},
   "outputs": [],
   "source": [
    "import pandas as pd"
   ]
  },
  {
   "cell_type": "code",
   "execution_count": 24,
   "id": "a7b2243a",
   "metadata": {},
   "outputs": [],
   "source": [
    "df  = pd.read_csv(\"fc_upper_lims.csv\"    , index_col=0)\n",
    "#new = pd.read_csv(\"fc_upper_lims_new.csv\", index_col=0)"
   ]
  },
  {
   "cell_type": "code",
   "execution_count": 15,
   "id": "c823d1d1",
   "metadata": {},
   "outputs": [],
   "source": [
    "conc = pd.concat([new, df])"
   ]
  },
  {
   "cell_type": "code",
   "execution_count": 18,
   "id": "21841ddd",
   "metadata": {},
   "outputs": [],
   "source": [
    "conc.to_csv(\"fc_upper_lims_update.csv\")"
   ]
  },
  {
   "cell_type": "code",
   "execution_count": 21,
   "id": "20c85b2c",
   "metadata": {},
   "outputs": [],
   "source": [
    "df = pd.read_csv(\"fc_upper_lims_update.csv\", index_col=0)"
   ]
  },
  {
   "cell_type": "code",
   "execution_count": null,
   "id": "93bbd0a1",
   "metadata": {},
   "outputs": [],
   "source": []
  },
  {
   "cell_type": "code",
   "execution_count": null,
   "id": "51cfc6b6",
   "metadata": {},
   "outputs": [],
   "source": []
  },
  {
   "cell_type": "code",
   "execution_count": null,
   "id": "c99f100c",
   "metadata": {},
   "outputs": [],
   "source": []
  }
 ],
 "metadata": {
  "kernelspec": {
   "display_name": "Python 3 (ipykernel)",
   "language": "python",
   "name": "python3"
  },
  "language_info": {
   "codemirror_mode": {
    "name": "ipython",
    "version": 3
   },
   "file_extension": ".py",
   "mimetype": "text/x-python",
   "name": "python",
   "nbconvert_exporter": "python",
   "pygments_lexer": "ipython3",
   "version": "3.8.13"
  }
 },
 "nbformat": 4,
 "nbformat_minor": 5
}
