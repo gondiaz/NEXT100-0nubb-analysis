{
 "cells": [
  {
   "cell_type": "code",
   "execution_count": 1,
   "id": "c666e6fe",
   "metadata": {},
   "outputs": [
    {
     "name": "stdout",
     "output_type": "stream",
     "text": [
      "Welcome to JupyROOT 6.24/06\n"
     ]
    }
   ],
   "source": [
    "import os\n",
    "import numpy  as np\n",
    "import pandas as pd\n",
    "\n",
    "os.sys.path.append(os.path.expandvars(\"$HOME/NEXT/pybbsens/\"))\n",
    "from pybbsens.conflimits import FeldmanCousins"
   ]
  },
  {
   "cell_type": "code",
   "execution_count": 2,
   "id": "e596a3a4",
   "metadata": {},
   "outputs": [],
   "source": [
    "CLs = [68.2, 90, 99]\n",
    "ns  = np.arange(0, 50 + 1, 1)\n",
    "\n",
    "index = [(cl, level) for cl in CLs for level in [\"lo\", \"up\"]]\n",
    "df = pd.DataFrame(columns=pd.MultiIndex.from_tuples(index))\n",
    "\n",
    "for cl in CLs:\n",
    "    fc = FeldmanCousins(cl)\n",
    "    for n in ns:\n",
    "        df.loc[n, (cl, \"lo\")] = fc.LowerLimit(n, 0)\n",
    "        df.loc[n, (cl, \"up\")] = fc.UpperLimit(n, 0)"
   ]
  },
  {
   "cell_type": "code",
   "execution_count": 4,
   "id": "1ace6431",
   "metadata": {},
   "outputs": [],
   "source": [
    "df.to_csv(\"fc_poisson_CIs.csv\")"
   ]
  },
  {
   "cell_type": "code",
   "execution_count": null,
   "id": "553611b2",
   "metadata": {},
   "outputs": [],
   "source": []
  },
  {
   "cell_type": "code",
   "execution_count": null,
   "id": "aee04e15",
   "metadata": {},
   "outputs": [],
   "source": []
  },
  {
   "cell_type": "code",
   "execution_count": null,
   "id": "22bacd9c",
   "metadata": {},
   "outputs": [],
   "source": []
  },
  {
   "cell_type": "code",
   "execution_count": null,
   "id": "6e639ae9",
   "metadata": {},
   "outputs": [],
   "source": []
  },
  {
   "cell_type": "code",
   "execution_count": null,
   "id": "4804a0a9",
   "metadata": {},
   "outputs": [],
   "source": []
  },
  {
   "cell_type": "code",
   "execution_count": null,
   "id": "1fdb2d7e",
   "metadata": {},
   "outputs": [],
   "source": []
  },
  {
   "cell_type": "code",
   "execution_count": null,
   "id": "a6d40811",
   "metadata": {},
   "outputs": [],
   "source": []
  }
 ],
 "metadata": {
  "kernelspec": {
   "display_name": "Python 3 (ipykernel)",
   "language": "python",
   "name": "python3"
  },
  "language_info": {
   "codemirror_mode": {
    "name": "ipython",
    "version": 3
   },
   "file_extension": ".py",
   "mimetype": "text/x-python",
   "name": "python",
   "nbconvert_exporter": "python",
   "pygments_lexer": "ipython3",
   "version": "3.8.13"
  }
 },
 "nbformat": 4,
 "nbformat_minor": 5
}
