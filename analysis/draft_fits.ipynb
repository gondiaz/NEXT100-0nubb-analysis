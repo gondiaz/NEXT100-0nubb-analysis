{
 "cells": [
  {
   "cell_type": "code",
   "execution_count": 1,
   "metadata": {},
   "outputs": [],
   "source": [
    "import os\n",
    "import glob\n",
    "import numpy  as np\n",
    "import pandas as pd\n",
    "import matplotlib.pyplot as plt\n",
    "%matplotlib widget\n",
    "\n",
    "from iminuit import Minuit\n",
    "\n",
    "from scipy.stats       import rv_continuous\n",
    "from scipy.interpolate import interp1d\n",
    "\n",
    "plt.rcParams[\"font.size\"]      = 15\n",
    "plt.rcParams[\"font.family\"]    = \"sans-serif\"\n",
    "plt.rcParams[\"font.monospace\"] = \"Computer Modern Sans Serif\"\n",
    "plt.rcParams[\"figure.max_open_warning\"] = 50"
   ]
  },
  {
   "cell_type": "code",
   "execution_count": 2,
   "metadata": {},
   "outputs": [],
   "source": [
    "indir = os.path.expandvars(\"$LUSTRE/NEXT100/{background}/{component}/detsim/prod/esmeralda/\")\n",
    "\n",
    "backgrounds = [\"214Bi\", \"208Tl\"]\n",
    "components  = [\"LIGHT_TUBE\", \"SAPPHIRE_WINDOW\", \"SIPM_BOARD\"]"
   ]
  },
  {
   "cell_type": "code",
   "execution_count": 3,
   "metadata": {},
   "outputs": [
    {
     "name": "stdout",
     "output_type": "stream",
     "text": [
      "Background: 214Bi\n",
      "-----------\n",
      "LIGHT_TUBE In map selection: 78 %\n",
      "SAPPHIRE_WINDOW In map selection: 98 %\n",
      "SIPM_BOARD In map selection: 97 %\n",
      "\n",
      "Background: 208Tl\n",
      "-----------\n",
      "LIGHT_TUBE In map selection: 95 %\n",
      "SAPPHIRE_WINDOW In map selection: 98 %\n",
      "SIPM_BOARD In map selection: 97 %\n",
      "\n"
     ]
    }
   ],
   "source": [
    "filtered_summaries = []\n",
    "\n",
    "for background in backgrounds:\n",
    "    \n",
    "    print(\"Background:\", background)\n",
    "    print(\"-----------\")\n",
    "    \n",
    "    for component in components:\n",
    "        \n",
    "        try:\n",
    "            filename = glob.glob(indir.format(background=background, component=component) + \"/esmeralda_combined*\")[0]\n",
    "        except IndexError:\n",
    "            continue\n",
    "            \n",
    "        summary_ = pd.read_hdf(filename, \"Summary/Events\")\n",
    "        Ntot = len(summary_)\n",
    "        summary_ = summary_[~summary_[\"evt_out_of_map\"]]\n",
    "        print(component, \"In map selection:\", int(len(summary_)/Ntot*100), \"%\")\n",
    "        \n",
    "        summary_[\"background\"] = background\n",
    "        summary_[\"component\"]  = component\n",
    "        \n",
    "        filtered_summaries.append(summary_)\n",
    "    print()\n",
    "\n",
    "summary = pd.concat(filtered_summaries)"
   ]
  },
  {
   "cell_type": "code",
   "execution_count": 4,
   "metadata": {},
   "outputs": [
    {
     "name": "stdout",
     "output_type": "stream",
     "text": [
      "Signal:\n",
      "-------\n",
      "In map selection: 96 %\n"
     ]
    }
   ],
   "source": [
    "indir = os.path.expandvars(\"$LUSTRE/NEXT100/0nubb/detsim/prod/esmeralda/\")\n",
    "\n",
    "filename = glob.glob(indir + \"/esmeralda_combined*\")[0]\n",
    "\n",
    "summary_ = pd.read_hdf(filename, \"Summary/Events\")\n",
    "Ntot = len(summary_)\n",
    "summary_ = summary_[~summary_[\"evt_out_of_map\"]]\n",
    "\n",
    "print(\"Signal:\")\n",
    "print(\"-------\")\n",
    "print(\"In map selection:\", int(len(summary_)/Ntot*100), \"%\")\n",
    "\n",
    "summary_[\"background\"] = \"0nubb\"\n",
    "summary_[\"component\"]  = \"0nubb\"\n",
    "\n",
    "summary = pd.concat([summary, summary_])"
   ]
  },
  {
   "cell_type": "code",
   "execution_count": 5,
   "metadata": {},
   "outputs": [
    {
     "name": "stdout",
     "output_type": "stream",
     "text": [
      "1 track selection: 49\n"
     ]
    }
   ],
   "source": [
    "sel = summary_[\"evt_ntrks\"] == 1\n",
    "print(\"1 track selection:\", int(np.sum(sel)/len(sel)*100))"
   ]
  },
  {
   "cell_type": "code",
   "execution_count": null,
   "metadata": {},
   "outputs": [],
   "source": []
  },
  {
   "cell_type": "code",
   "execution_count": 6,
   "metadata": {},
   "outputs": [],
   "source": [
    "emin, emax, de = 2.0, 2.7, 0.01\n",
    "ebins = np.arange(emin, emax, de)"
   ]
  },
  {
   "cell_type": "code",
   "execution_count": 7,
   "metadata": {},
   "outputs": [
    {
     "data": {
      "application/vnd.jupyter.widget-view+json": {
       "model_id": "0a288957baeb4c09a40d587735ac5830",
       "version_major": 2,
       "version_minor": 0
      },
      "text/plain": [
       "Canvas(toolbar=Toolbar(toolitems=[('Home', 'Reset original view', 'home', 'home'), ('Back', 'Back to previous …"
      ]
     },
     "metadata": {},
     "output_type": "display_data"
    }
   ],
   "source": [
    "fig, ax = plt.subplots(1, 1, figsize=[8, 5])\n",
    "\n",
    "for background in summary[\"background\"].unique():\n",
    "    \n",
    "    sel = summary[\"background\"] == background\n",
    "#     sel = sel & (summary[\"evt_ntrks\"]>=1)\n",
    "    energy = summary[sel][\"evt_energy\"].values\n",
    "    \n",
    "    #plot\n",
    "#     fig, ax = plt.subplots(1, 1, figsize=[8, 5])\n",
    "#     ax.set_title(background)\n",
    "    h, _ = np.histogram(energy, bins=ebins)\n",
    "    \n",
    "    ax.bar(ebins[:-1], h, width=de, alpha=0.5, label=background)\n",
    "    ax.set_yscale(\"linear\")\n",
    "    ax.legend()"
   ]
  },
  {
   "cell_type": "code",
   "execution_count": 8,
   "metadata": {
    "scrolled": false
   },
   "outputs": [],
   "source": [
    "# for background in backgrounds:\n",
    "#     for component in components:\n",
    "        \n",
    "#         sel = (summary[\"background\"] == background) & (summary[\"component\"]==component)\n",
    "#         energy = summary[sel][\"evt_energy\"].values\n",
    "        \n",
    "#         #plot\n",
    "#         fig, ax = plt.subplots(1, 1, figsize=[8, 5])\n",
    "#         ax.set_title(background + \" \" + component)\n",
    "#         h, _ = np.histogram(energy, bins=ebins)\n",
    "#         ax.bar(ebins[:-1], h, width=de, alpha=0.5, label=background+component)\n",
    "#         ax.set_yscale(\"log\")"
   ]
  },
  {
   "cell_type": "markdown",
   "metadata": {},
   "source": [
    "# Create and test PDFs"
   ]
  },
  {
   "cell_type": "code",
   "execution_count": 9,
   "metadata": {},
   "outputs": [],
   "source": [
    "emin, emax, de = 2.0, 2.7, 0.01\n",
    "ebins = np.arange(emin, emax, de)\n",
    "\n",
    "pdf_collection = {}\n",
    "\n",
    "for background in summary[\"background\"].unique():\n",
    "    \n",
    "    sel = summary[\"background\"] == background\n",
    "    energy = summary[sel][\"evt_energy\"].values\n",
    "    \n",
    "    h, _ = np.histogram(energy, bins=ebins)\n",
    "    pdf = h/(np.sum(h)*de)\n",
    "    \n",
    "    pdf_collection[background] = pdf"
   ]
  },
  {
   "cell_type": "code",
   "execution_count": 10,
   "metadata": {},
   "outputs": [
    {
     "data": {
      "application/vnd.jupyter.widget-view+json": {
       "model_id": "0c94b6162bee4d9d9931bb761731d119",
       "version_major": 2,
       "version_minor": 0
      },
      "text/plain": [
       "Canvas(toolbar=Toolbar(toolitems=[('Home', 'Reset original view', 'home', 'home'), ('Back', 'Back to previous …"
      ]
     },
     "metadata": {},
     "output_type": "display_data"
    }
   ],
   "source": [
    "plt.figure()\n",
    "plt.plot(ebins[:-1], pdf_collection[\"214Bi\"])\n",
    "plt.yscale(\"linear\")"
   ]
  },
  {
   "cell_type": "code",
   "execution_count": 13,
   "metadata": {},
   "outputs": [],
   "source": [
    "pdf = pdf_collection[\"208Tl\"]\n",
    "\n",
    "bincenters = (ebins[:-1] + ebins[1:])/2.\n",
    "f = interp1d(bincenters, pdf, kind=\"cubic\")"
   ]
  },
  {
   "cell_type": "code",
   "execution_count": null,
   "metadata": {},
   "outputs": [],
   "source": []
  },
  {
   "cell_type": "code",
   "execution_count": 14,
   "metadata": {},
   "outputs": [
    {
     "data": {
      "application/vnd.jupyter.widget-view+json": {
       "model_id": "315034189f1f4d01a3c4902266eb1638",
       "version_major": 2,
       "version_minor": 0
      },
      "text/plain": [
       "Canvas(toolbar=Toolbar(toolitems=[('Home', 'Reset original view', 'home', 'home'), ('Back', 'Back to previous …"
      ]
     },
     "metadata": {},
     "output_type": "display_data"
    }
   ],
   "source": [
    "plt.figure(figsize=[8, 5])\n",
    "plt.plot(bincenters, pdf)\n",
    "\n",
    "es = np.arange(f.x[0], f.x[-1], 0.001)\n",
    "plt.plot(es, f(es))\n",
    "\n",
    "plt.yscale(\"linear\")"
   ]
  },
  {
   "cell_type": "code",
   "execution_count": null,
   "metadata": {},
   "outputs": [],
   "source": []
  },
  {
   "cell_type": "code",
   "execution_count": null,
   "metadata": {},
   "outputs": [],
   "source": []
  },
  {
   "cell_type": "markdown",
   "metadata": {},
   "source": [
    "# PDF"
   ]
  },
  {
   "cell_type": "code",
   "execution_count": 29,
   "metadata": {},
   "outputs": [],
   "source": [
    "class pdf(rv_continuous):\n",
    "    \"\"\"\n",
    "    Params:\n",
    "    -------\n",
    "    a, b   : lower and upper limits\n",
    "    numpdf : tuple (x, y) of numerical pdf\n",
    "    funcpdf: function defining pdf\n",
    "    n      : number of partitions of to numerically compute the cdf\n",
    "    kind   : kind of interpolation (see interp1d function)\n",
    "    \n",
    "    Methods:\n",
    "    -------\n",
    "    see scipy.stats.rv_continuos\n",
    "    \"\"\"\n",
    "    def __init__(self, name=None, a=None, b=None, numpdf=None, funcpdf=None, n=10000, kind=\"cubic\"):\n",
    "        super().__init__(momtype=0, name=name, a=a, b=b)\n",
    "        \n",
    "        if numpdf and funcpdf:\n",
    "            raise Exception(\"Both numerical and functional pdf introduced\")\n",
    "        if (numpdf is None) and (funcpdf is None):\n",
    "            raise Exception(\"Introduce pdf\")\n",
    "        \n",
    "        if numpdf:\n",
    "            func = self.create_pdf_function(numpdf, kind)\n",
    "            self.set_pdf(func)\n",
    "            \n",
    "            func = self.create_cdf_function(n, kind)\n",
    "            self.set_cdf(func)\n",
    "            \n",
    "        if funcpdf:\n",
    "            self.set_pdf(funcpdf)\n",
    "    \n",
    "    ## PDF\n",
    "    def create_pdf_function(self, numpdf, kind):\n",
    "        x, y = numpdf\n",
    "        self.get_norm(x, y)\n",
    "        self.a, self.b = min(x), max(x)\n",
    "        f = interp1d(x, y/self.norm, kind=kind, bounds_error=False, fill_value=0)\n",
    "        return f\n",
    "        \n",
    "    def set_pdf(self, func):\n",
    "        self._pdf = func\n",
    "        \n",
    "    def get_norm(self, x, y):\n",
    "        ym = (y[1:] + y[:-1])/2.\n",
    "        norm = np.sum(np.diff(x)*ym)\n",
    "        self.norm = norm\n",
    "        return norm\n",
    "        \n",
    "    ## CDF (this greatly speeds up the computation of rvs)\n",
    "    def create_cdf_function(self, n, kind):\n",
    "        dx = (self.b - self.a)/n\n",
    "        x = np.arange(self.a-dx, self.b + dx, dx)\n",
    "        y = self.pdf(x)\n",
    "        ym = (y[1:] + y[:-1])/2.\n",
    "        cdf = np.cumsum(np.diff(x)*ym)\n",
    "        f = interp1d(x[1:], cdf, kind=kind, bounds_error=False, fill_value=0)\n",
    "        return f\n",
    "    \n",
    "    def set_cdf(self, func):\n",
    "        self._cdf = func"
   ]
  },
  {
   "cell_type": "code",
   "execution_count": 16,
   "metadata": {},
   "outputs": [],
   "source": [
    "x = bincenters\n",
    "y = pdf_collection[\"214Bi\"]"
   ]
  },
  {
   "cell_type": "code",
   "execution_count": 17,
   "metadata": {},
   "outputs": [],
   "source": [
    "p = pdf(numpdf=(x, y))"
   ]
  },
  {
   "cell_type": "code",
   "execution_count": 18,
   "metadata": {},
   "outputs": [],
   "source": [
    "x = np.arange(2, 2.7, 0.0001)\n",
    "y = p.pdf(x)"
   ]
  },
  {
   "cell_type": "code",
   "execution_count": 19,
   "metadata": {},
   "outputs": [],
   "source": [
    "r = p.rvs(size=20000)"
   ]
  },
  {
   "cell_type": "code",
   "execution_count": 20,
   "metadata": {},
   "outputs": [
    {
     "data": {
      "application/vnd.jupyter.widget-view+json": {
       "model_id": "a0e31f69969b4ffba44eee7e00ddc547",
       "version_major": 2,
       "version_minor": 0
      },
      "text/plain": [
       "Canvas(toolbar=Toolbar(toolitems=[('Home', 'Reset original view', 'home', 'home'), ('Back', 'Back to previous …"
      ]
     },
     "metadata": {},
     "output_type": "display_data"
    }
   ],
   "source": [
    "plt.figure()\n",
    "plt.plot(x, y)\n",
    "plt.hist(r, bins=200, density=True);\n",
    "# plt.yscale(\"log\")"
   ]
  },
  {
   "cell_type": "code",
   "execution_count": null,
   "metadata": {},
   "outputs": [],
   "source": []
  },
  {
   "cell_type": "code",
   "execution_count": null,
   "metadata": {},
   "outputs": [],
   "source": []
  },
  {
   "cell_type": "code",
   "execution_count": null,
   "metadata": {},
   "outputs": [],
   "source": []
  },
  {
   "cell_type": "markdown",
   "metadata": {},
   "source": [
    "# Ext PDF"
   ]
  },
  {
   "cell_type": "code",
   "execution_count": 296,
   "metadata": {},
   "outputs": [],
   "source": [
    "class Extpdf:\n",
    "    \"\"\"\n",
    "    defines an extended pdf for a pdf collection such that:\n",
    "    \n",
    "    ext-pdf = sum(w_i*pdf_i) where wi represents the psf_i weight\n",
    "    \n",
    "    Params:\n",
    "    -------\n",
    "    pdf collection: dictionary of (name, pdf instances)\n",
    "    \n",
    "    Methods:\n",
    "    -------\n",
    "    pdf, rvs (same as pdf class)\n",
    "    eval_logL: returns the -log likelihood evaluated at given input\n",
    "    \"\"\"\n",
    "    \n",
    "    def __init__(self, collection):\n",
    "        self.collection = collection\n",
    "        self.n      = len(collection)\n",
    "        self.names  = list(collection.keys())\n",
    "        self.args_order = dict([(i, name) for i, name in enumerate(self.names)])\n",
    "        \n",
    "        \n",
    "    def pdf(self, x, *params):\n",
    "        N = np.sum(params)\n",
    "        products = []\n",
    "        for i in self.args_order:\n",
    "            n    = params[i]\n",
    "            name = self.args_order[i]\n",
    "            p    = self.collection[name]\n",
    "            products.append((n/N)*p.pdf(x))\n",
    "        return np.sum(products, axis=0)\n",
    "    \n",
    "    \n",
    "    def rvs(self, *params, size=1):\n",
    "        r = []\n",
    "        for i in self.args_order:\n",
    "            n    = params[i]\n",
    "            name = self.args_order[i]\n",
    "            p    = self.collection[name]\n",
    "            r.append(p.rvs(size=size*n))\n",
    "        return np.concatenate(r)\n",
    "    \n",
    "    \n",
    "    def eval_logL(self, x):\n",
    "        def logL(*params):\n",
    "            N = np.sum(params)\n",
    "            p = self.pdf(x, *params)\n",
    "            p = p[p>0]\n",
    "            ll = -N + np.sum(np.log(N*p))\n",
    "            return -ll\n",
    "        return logL"
   ]
  },
  {
   "cell_type": "code",
   "execution_count": null,
   "metadata": {},
   "outputs": [],
   "source": []
  },
  {
   "cell_type": "code",
   "execution_count": 297,
   "metadata": {},
   "outputs": [],
   "source": [
    "collection = dict()\n",
    "\n",
    "x = bincenters\n",
    "\n",
    "y = pdf_collection[\"208Tl\"]\n",
    "p = pdf(numpdf=(x, y), name=\"208Tl\")\n",
    "collection[\"208Tl\"] = p\n",
    "\n",
    "y = pdf_collection[\"214Bi\"]\n",
    "p = pdf(numpdf=(x, y), name=\"214Bi\")\n",
    "collection[\"214Bi\"] = p\n",
    "\n",
    "y = pdf_collection[\"0nubb\"]\n",
    "p = pdf(numpdf=(x, y), name=\"0nubb\")\n",
    "collection[\"0nubb\"] = p"
   ]
  },
  {
   "cell_type": "code",
   "execution_count": 298,
   "metadata": {},
   "outputs": [],
   "source": [
    "# collection = {\"208Tl\": p}\n",
    "\n",
    "i = Extpdf(collection)"
   ]
  },
  {
   "cell_type": "code",
   "execution_count": 299,
   "metadata": {},
   "outputs": [
    {
     "data": {
      "text/plain": [
       "{0: '208Tl', 1: '214Bi', 2: '0nubb'}"
      ]
     },
     "execution_count": 299,
     "metadata": {},
     "output_type": "execute_result"
    }
   ],
   "source": [
    "i.args_order"
   ]
  },
  {
   "cell_type": "code",
   "execution_count": null,
   "metadata": {},
   "outputs": [],
   "source": []
  },
  {
   "cell_type": "code",
   "execution_count": 303,
   "metadata": {},
   "outputs": [],
   "source": [
    "x = np.arange(2.0, 2.7, 0.001)\n",
    "\n",
    "ns = [0, 1, 1]\n",
    "params = dict(zip(i.names, ns))\n",
    "\n",
    "params = ns\n",
    "\n",
    "y = i.pdf(x, *params);"
   ]
  },
  {
   "cell_type": "code",
   "execution_count": 304,
   "metadata": {},
   "outputs": [],
   "source": [
    "r = i.rvs(*params, size=100)"
   ]
  },
  {
   "cell_type": "code",
   "execution_count": 305,
   "metadata": {},
   "outputs": [
    {
     "data": {
      "application/vnd.jupyter.widget-view+json": {
       "model_id": "6f8dbc8bf82b4ad6ac980df74fb39169",
       "version_major": 2,
       "version_minor": 0
      },
      "text/plain": [
       "Canvas(toolbar=Toolbar(toolitems=[('Home', 'Reset original view', 'home', 'home'), ('Back', 'Back to previous …"
      ]
     },
     "metadata": {},
     "output_type": "display_data"
    }
   ],
   "source": [
    "plt.figure()\n",
    "plt.plot(x, y)\n",
    "\n",
    "# y = []\n",
    "# for name in params:\n",
    "#     n = params[name]\n",
    "#     p = pdf_collection[name]\n",
    "#     y.append((n/np.sum(ns))*p)\n",
    "# y = np.sum(y, axis=0)\n",
    "    \n",
    "# plt.scatter(bincenters, y, s=10, c=\"r\")\n",
    "plt.hist(r, bins=150, density=True);"
   ]
  },
  {
   "cell_type": "code",
   "execution_count": null,
   "metadata": {},
   "outputs": [],
   "source": []
  },
  {
   "cell_type": "code",
   "execution_count": null,
   "metadata": {},
   "outputs": [],
   "source": []
  },
  {
   "cell_type": "markdown",
   "metadata": {},
   "source": [
    "# Test Fits"
   ]
  },
  {
   "cell_type": "code",
   "execution_count": 332,
   "metadata": {},
   "outputs": [
    {
     "name": "stdout",
     "output_type": "stream",
     "text": [
      "{0: '208Tl', 1: '214Bi', 2: '0nubb'}\n"
     ]
    }
   ],
   "source": [
    "i = Extpdf(collection)\n",
    "print(i.args_order)"
   ]
  },
  {
   "cell_type": "code",
   "execution_count": 333,
   "metadata": {},
   "outputs": [],
   "source": [
    "# generate experiment\n",
    "ns = [0, 100, 0]\n",
    "experiment = i.rvs(*ns, size=1)"
   ]
  },
  {
   "cell_type": "code",
   "execution_count": 334,
   "metadata": {},
   "outputs": [],
   "source": [
    "logL = i.eval_logL(experiment)"
   ]
  },
  {
   "cell_type": "code",
   "execution_count": null,
   "metadata": {},
   "outputs": [],
   "source": []
  },
  {
   "cell_type": "code",
   "execution_count": 335,
   "metadata": {},
   "outputs": [
    {
     "data": {
      "text/html": [
       "<table>\n",
       "    <tr>\n",
       "        <td colspan=\"2\" style=\"text-align:left\" title=\"Minimum value of function\"> FCN = -460.3 </td>\n",
       "        <td colspan=\"3\" style=\"text-align:center\" title=\"No. of function evaluations in last call and total number\"> Nfcn = 148 </td>\n",
       "    </tr>\n",
       "    <tr>\n",
       "        <td colspan=\"2\" style=\"text-align:left\" title=\"Estimated distance to minimum and goal\"> EDM = 2.84e-05 (Goal: 0.1) </td>\n",
       "        <td colspan=\"3\" style=\"text-align:center\" title=\"No. of gradient evaluations in last call and total number\">  </td>\n",
       "    </tr>\n",
       "    <tr>\n",
       "        <td style=\"text-align:center;background-color:#92CCA6;color:black\"> Valid Minimum </td>\n",
       "        <td style=\"text-align:center;background-color:#92CCA6;color:black\"> Valid Parameters </td>\n",
       "        <td colspan=\"3\" style=\"text-align:center;background-color:#FFF79A;color:black\"> SOME Parameters at limit </td>\n",
       "    </tr>\n",
       "    <tr>\n",
       "        <td colspan=\"2\" style=\"text-align:center;background-color:#92CCA6;color:black\"> Below EDM threshold (goal x 10) </td>\n",
       "        <td colspan=\"3\" style=\"text-align:center;background-color:#92CCA6;color:black\"> Below call limit </td>\n",
       "    </tr>\n",
       "    <tr>\n",
       "        <td style=\"text-align:center;background-color:#92CCA6;color:black\"> Covariance </td>\n",
       "        <td style=\"text-align:center;background-color:#92CCA6;color:black\"> Hesse ok </td>\n",
       "        <td style=\"text-align:center;background-color:#92CCA6;color:black\" title=\"Is covariance matrix accurate?\"> Accurate </td>\n",
       "        <td style=\"text-align:center;background-color:#92CCA6;color:black\" title=\"Is covariance matrix positive definite?\"> Pos. def. </td>\n",
       "        <td style=\"text-align:center;background-color:#92CCA6;color:black\" title=\"Was positive definiteness enforced by Minuit?\"> Not forced </td>\n",
       "    </tr>\n",
       "</table><table>\n",
       "    <tr>\n",
       "        <td></td>\n",
       "        <th title=\"Variable name\"> Name </th>\n",
       "        <th title=\"Value of parameter\"> Value </th>\n",
       "        <th title=\"Hesse error\"> Hesse Error </th>\n",
       "        <th title=\"Minos lower error\"> Minos Error- </th>\n",
       "        <th title=\"Minos upper error\"> Minos Error+ </th>\n",
       "        <th title=\"Lower limit of the parameter\"> Limit- </th>\n",
       "        <th title=\"Upper limit of the parameter\"> Limit+ </th>\n",
       "        <th title=\"Is the parameter fixed in the fit\"> Fixed </th>\n",
       "    </tr>\n",
       "    <tr>\n",
       "        <th> 0 </th>\n",
       "        <td> x0 </td>\n",
       "        <td> 0.0 </td>\n",
       "        <td> 2.6 </td>\n",
       "        <td>  </td>\n",
       "        <td>  </td>\n",
       "        <td> 0 </td>\n",
       "        <td> 100 </td>\n",
       "        <td>  </td>\n",
       "    </tr>\n",
       "    <tr>\n",
       "        <th> 1 </th>\n",
       "        <td> x1 </td>\n",
       "        <td> 96 </td>\n",
       "        <td> 10 </td>\n",
       "        <td>  </td>\n",
       "        <td>  </td>\n",
       "        <td> 0 </td>\n",
       "        <td> 100 </td>\n",
       "        <td>  </td>\n",
       "    </tr>\n",
       "    <tr>\n",
       "        <th> 2 </th>\n",
       "        <td> x2 </td>\n",
       "        <td> 5 </td>\n",
       "        <td> 4 </td>\n",
       "        <td>  </td>\n",
       "        <td>  </td>\n",
       "        <td> 0 </td>\n",
       "        <td> 100 </td>\n",
       "        <td>  </td>\n",
       "    </tr>\n",
       "</table><table>\n",
       "    <tr>\n",
       "        <td></td>\n",
       "        <th> x0 </th>\n",
       "        <th> x1 </th>\n",
       "        <th> x2 </th>\n",
       "    </tr>\n",
       "    <tr>\n",
       "        <th> x0 </th>\n",
       "        <td> 3.75e-05 </td>\n",
       "        <td style=\"background-color:rgb(250,250,250);color:black\"> -6.72e-05 <strong>(-0.001)</strong> </td>\n",
       "        <td style=\"background-color:rgb(250,250,250);color:black\"> -8.12e-07 </td>\n",
       "    </tr>\n",
       "    <tr>\n",
       "        <th> x1 </th>\n",
       "        <td style=\"background-color:rgb(250,250,250);color:black\"> -6.72e-05 <strong>(-0.001)</strong> </td>\n",
       "        <td> 104 </td>\n",
       "        <td style=\"background-color:rgb(220,220,250);color:black\"> -8.49 <strong>(-0.230)</strong> </td>\n",
       "    </tr>\n",
       "    <tr>\n",
       "        <th> x2 </th>\n",
       "        <td style=\"background-color:rgb(250,250,250);color:black\"> -8.12e-07 </td>\n",
       "        <td style=\"background-color:rgb(220,220,250);color:black\"> -8.49 <strong>(-0.230)</strong> </td>\n",
       "        <td> 13 </td>\n",
       "    </tr>\n",
       "</table>"
      ],
      "text/plain": [
       "┌──────────────────────────────────┬──────────────────────────────────────┐\n",
       "│ FCN = -460.3                     │              Nfcn = 148              │\n",
       "│ EDM = 2.84e-05 (Goal: 0.1)       │                                      │\n",
       "├───────────────┬──────────────────┼──────────────────────────────────────┤\n",
       "│ Valid Minimum │ Valid Parameters │       SOME Parameters at limit       │\n",
       "├───────────────┴──────────────────┼──────────────────────────────────────┤\n",
       "│ Below EDM threshold (goal x 10)  │           Below call limit           │\n",
       "├───────────────┬──────────────────┼───────────┬─────────────┬────────────┤\n",
       "│  Covariance   │     Hesse ok     │ Accurate  │  Pos. def.  │ Not forced │\n",
       "└───────────────┴──────────────────┴───────────┴─────────────┴────────────┘\n",
       "┌───┬──────┬───────────┬───────────┬────────────┬────────────┬─────────┬─────────┬───────┐\n",
       "│   │ Name │   Value   │ Hesse Err │ Minos Err- │ Minos Err+ │ Limit-  │ Limit+  │ Fixed │\n",
       "├───┼──────┼───────────┼───────────┼────────────┼────────────┼─────────┼─────────┼───────┤\n",
       "│ 0 │ x0   │    0.0    │    2.6    │            │            │    0    │   100   │       │\n",
       "│ 1 │ x1   │    96     │    10     │            │            │    0    │   100   │       │\n",
       "│ 2 │ x2   │     5     │     4     │            │            │    0    │   100   │       │\n",
       "└───┴──────┴───────────┴───────────┴────────────┴────────────┴─────────┴─────────┴───────┘\n",
       "┌────┬───────────────────────────────┐\n",
       "│    │        x0        x1        x2 │\n",
       "├────┼───────────────────────────────┤\n",
       "│ x0 │  3.75e-05 -6.72e-05 -8.12e-07 │\n",
       "│ x1 │ -6.72e-05       104     -8.49 │\n",
       "│ x2 │ -8.12e-07     -8.49        13 │\n",
       "└────┴───────────────────────────────┘"
      ]
     },
     "execution_count": 335,
     "metadata": {},
     "output_type": "execute_result"
    }
   ],
   "source": [
    "guess = [len(experiment)]*len(i.args_order)\n",
    "m = Minuit(logL, *guess)\n",
    "m.errordef = Minuit.LIKELIHOOD\n",
    "m.limits = [(0, len(experiment))]*len(i.args_order)\n",
    "m.migrad()\n",
    "m.hesse()"
   ]
  },
  {
   "cell_type": "code",
   "execution_count": null,
   "metadata": {},
   "outputs": [],
   "source": []
  },
  {
   "cell_type": "code",
   "execution_count": 336,
   "metadata": {},
   "outputs": [
    {
     "name": "stdout",
     "output_type": "stream",
     "text": [
      "Reduced chi-square: 0.939\n"
     ]
    }
   ],
   "source": [
    "# compute chi-square\n",
    "\n",
    "binsize = 0.001\n",
    "bins = np.arange(2, 2.7, binsize)\n",
    "N = len(bins)-1\n",
    "observed, _ = np.histogram(experiment, bins=bins)\n",
    "\n",
    "# expected, integrate pdf\n",
    "expected = []\n",
    "dx = binsize/100\n",
    "for b in range(len(bins)-1):\n",
    "    a, b = bins[b], bins[b+1]\n",
    "    xs = np.arange(a, b+dx, dx)\n",
    "    expected.append(np.sum(i.pdf(xs, *m.values))*dx)\n",
    "expected = np.array(expected)*np.sum(observed)\n",
    "    \n",
    "sel = expected>0\n",
    "chi2_dof = np.sum((observed[sel]-expected[sel])**2/expected[sel])/(N-len(m.values))\n",
    "\n",
    "print(\"Reduced chi-square:\", round(chi2_dof, 3))"
   ]
  },
  {
   "cell_type": "code",
   "execution_count": null,
   "metadata": {},
   "outputs": [],
   "source": []
  },
  {
   "cell_type": "code",
   "execution_count": 337,
   "metadata": {},
   "outputs": [],
   "source": [
    "x = np.arange(2, 2.7, 0.001)\n",
    "fit_result      = i.pdf(x, *m.values)\n",
    "expected_result = i.pdf(x, *ns)"
   ]
  },
  {
   "cell_type": "code",
   "execution_count": 338,
   "metadata": {},
   "outputs": [
    {
     "name": "stderr",
     "output_type": "stream",
     "text": [
      "/home/usc/ie/gdl/Software/miniconda/envs/IC-3.7-2020-06-16/lib/python3.7/site-packages/ipykernel_launcher.py:1: RuntimeWarning: More than 50 figures have been opened. Figures created through the pyplot interface (`matplotlib.pyplot.figure`) are retained until explicitly closed and may consume too much memory. (To control this warning, see the rcParam `figure.max_open_warning`).\n",
      "  \"\"\"Entry point for launching an IPython kernel.\n"
     ]
    },
    {
     "data": {
      "application/vnd.jupyter.widget-view+json": {
       "model_id": "192b42ffe90b4d5e94deb633a51a9069",
       "version_major": 2,
       "version_minor": 0
      },
      "text/plain": [
       "Canvas(toolbar=Toolbar(toolitems=[('Home', 'Reset original view', 'home', 'home'), ('Back', 'Back to previous …"
      ]
     },
     "metadata": {},
     "output_type": "display_data"
    }
   ],
   "source": [
    "plt.figure()\n",
    "\n",
    "plt.plot(x, fit_result     , c=\"r\", label=\"fit\")\n",
    "plt.plot(x, expected_result, c=\"b\", label=\"expected\")\n",
    "plt.hist(experiment, bins=200, density=True, alpha=0.5, label=\"experiment\")\n",
    "plt.legend()\n",
    "plt.yscale(\"linear\");"
   ]
  },
  {
   "cell_type": "code",
   "execution_count": null,
   "metadata": {},
   "outputs": [],
   "source": []
  },
  {
   "cell_type": "code",
   "execution_count": null,
   "metadata": {},
   "outputs": [],
   "source": []
  },
  {
   "cell_type": "code",
   "execution_count": null,
   "metadata": {},
   "outputs": [],
   "source": []
  },
  {
   "cell_type": "code",
   "execution_count": null,
   "metadata": {},
   "outputs": [],
   "source": []
  }
 ],
 "metadata": {
  "kernelspec": {
   "display_name": "Python 3",
   "language": "python",
   "name": "python3"
  },
  "language_info": {
   "codemirror_mode": {
    "name": "ipython",
    "version": 3
   },
   "file_extension": ".py",
   "mimetype": "text/x-python",
   "name": "python",
   "nbconvert_exporter": "python",
   "pygments_lexer": "ipython3",
   "version": "3.7.9"
  }
 },
 "nbformat": 4,
 "nbformat_minor": 4
}
