{
 "cells": [
  {
   "cell_type": "markdown",
   "id": "be61da15",
   "metadata": {},
   "source": [
    "This notebook computed the reconstruction efficiencies and prepares the datasets for further analysis."
   ]
  },
  {
   "cell_type": "code",
   "execution_count": 86,
   "id": "7a3caa69",
   "metadata": {},
   "outputs": [],
   "source": [
    "import os\n",
    "import glob\n",
    "import numpy  as np\n",
    "import pandas as pd\n",
    "\n",
    "from invisible_cities.evm.mixer            import get_file_number\n",
    "from invisible_cities.io.dst_io            import load_dst\n",
    "from invisible_cities.database.load_db     import RadioactivityData"
   ]
  },
  {
   "cell_type": "code",
   "execution_count": 104,
   "id": "c4b15ac0",
   "metadata": {},
   "outputs": [],
   "source": [
    "# cut on event energy. \n",
    "# It is used in both nexus efficiency (ie truth energy deposition) \n",
    "# and reconstructed energy after the IC processing\n",
    "Emin, Emax = 2.4, 2.5\n",
    "\n",
    "# isotopes and path of the production \n",
    "# the assumed structure for nexus and IC are: path/g4volume/nexus and path/g4volume/prod/city\n",
    "isotopes = [\"214Bi\", \"208Tl\", \"0nubb\", \"muons\"]\n",
    "path = os.path.expandvars(\"$LUSTRE/NEXT100/{isotope}/\")\n",
    "\n",
    "efficiencies_outfile = f\"eficiencies_{Emin}_{Emax}_MeV.csv\"\n",
    "tracks_outfile       = f\"tracks_{Emin}_{Emax}_MeV.h5\""
   ]
  },
  {
   "cell_type": "markdown",
   "id": "de3e5dce",
   "metadata": {},
   "source": [
    "## Check reconstruction chain 1-1 correspondence"
   ]
  },
  {
   "cell_type": "code",
   "execution_count": null,
   "id": "ff56a9ed",
   "metadata": {
    "scrolled": true
   },
   "outputs": [],
   "source": [
    "for isotope in isotopes:\n",
    "    g4volumes = os.listdir(path.format(isotope=isotope))\n",
    "    for g4volume in g4volumes:\n",
    "        nexus_filenames = glob.glob( os.path.join(path.format(isotope=isotope)\n",
    "                                   , f\"{g4volume}/nexus/nexus_*.h5\"))\n",
    "    \n",
    "        isaura_filenames = glob.glob( os.path.join(path.format(isotope=isotope)\n",
    "                                   , f\"{g4volume}/prod/isaura/isaura_*.h5\"))\n",
    "        \n",
    "        nexus_file_n  = [get_file_number(filename) for filename in nexus_filenames]\n",
    "        isaura_file_n = [get_file_number(filename) for filename in isaura_filenames]\n",
    "        \n",
    "        diff = np.setxor1d(nexus_file_n, isaura_file_n)\n",
    "        \n",
    "        if (len(diff) != 0):\n",
    "            msg = f\"({isotope}, {g4volume}): not 1-1 correspondence for file numbers\" + str(diff)\n",
    "            raise Exception(msg)"
   ]
  },
  {
   "cell_type": "markdown",
   "id": "8d8a54c8",
   "metadata": {},
   "source": [
    "## MC Efficiencies"
   ]
  },
  {
   "cell_type": "code",
   "execution_count": null,
   "id": "5ba68912",
   "metadata": {},
   "outputs": [],
   "source": [
    "eff = pd.DataFrame()\n",
    "for isotope in isotopes:\n",
    "    \n",
    "    print(\"Processing\", isotope)\n",
    "    \n",
    "    g4volumes = os.listdir(path.format(isotope=isotope))\n",
    "    for i, g4volume in enumerate(g4volumes, 1):\n",
    "\n",
    "        print(\"Processed\", f\"{i}/{len(g4volumes)}\".ljust(30), end=\"\\r\")\n",
    "        \n",
    "        filenames = glob.glob( os.path.join(path.format(isotope=isotope)\n",
    "                             , f\"{g4volume}/nexus/nexus_*.h5\"))\n",
    "        nsim   = 0\n",
    "        nsaved = 0\n",
    "        for filename in filenames:\n",
    "            configuration = load_dst(filename, \"MC\", \"configuration\").set_index(\"param_key\")\n",
    "            hits          = load_dst(filename, \"MC\",          \"hits\")\n",
    "\n",
    "            mc_energy = hits[hits.label == \"ACTIVE\"].groupby(\"event_id\").energy.sum()\n",
    "\n",
    "            nsim += int(configuration.loc[\"num_events\"].param_value)\n",
    "            sel = mc_energy.between(Emin, Emax)\n",
    "            nsaved += sel.sum()\n",
    "\n",
    "        eff.loc[len(eff), (\"Isotope\", \"G4Volume\", \"nsim\", \"nsaved\")] = (isotope, g4volume, nsim, nsaved)"
   ]
  },
  {
   "cell_type": "markdown",
   "id": "892aadfb",
   "metadata": {},
   "source": [
    "## IC efficiencies"
   ]
  },
  {
   "cell_type": "code",
   "execution_count": null,
   "id": "872e2d6e",
   "metadata": {
    "scrolled": true
   },
   "outputs": [
    {
     "name": "stdout",
     "output_type": "stream",
     "text": [
      "Processed 1/20                          \r"
     ]
    }
   ],
   "source": [
    "eff = eff.set_index([\"Isotope\", \"G4Volume\"])\n",
    "\n",
    "for isotope in isotopes:\n",
    "    \n",
    "    print(\"Processing\", isotope)\n",
    "    \n",
    "    g4volumes = os.listdir(path.format(isotope=isotope))\n",
    "    for i, g4volume in enumerate(g4volumes, 1):\n",
    "\n",
    "        print(\"Processed\", f\"{i}/{len(g4volumes)}\".ljust(30), end=\"\\r\")\n",
    "\n",
    "        filenames = glob.glob( os.path.join(path.format(isotope=isotope)\n",
    "                             , f\"{g4volume}/prod/isaura/isaura_*.h5\"))\n",
    "        npass = 0\n",
    "        for filename in filenames:\n",
    "            eventMap      = load_dst(filename,      \"Run\", \"eventMap\").set_index(\"nexus_evt\")\n",
    "            hits          = load_dst(filename,       \"MC\",     \"hits\")\n",
    "            try:   tracks = load_dst(filename, \"Tracking\",   \"Tracks\").set_index(\"event\")\n",
    "            except:continue\n",
    "            mc_energy = hits[hits.label == \"ACTIVE\"].groupby(\"event_id\").energy.sum()\n",
    "            sel = mc_energy.between(Emin, Emax)\n",
    "            npass += len(np.unique(tracks.index.intersection(eventMap.loc[sel].evt_number.values)))\n",
    "\n",
    "        eff.loc[(isotope, g4volume), \"npass\"] = npass"
   ]
  },
  {
   "cell_type": "code",
   "execution_count": 148,
   "id": "032c2f0d",
   "metadata": {},
   "outputs": [],
   "source": [
    "eff.to_csv(efficiencies_outfile, index=False)"
   ]
  },
  {
   "cell_type": "markdown",
   "id": "9b2577b8",
   "metadata": {},
   "source": [
    "## Create analysis file"
   ]
  },
  {
   "cell_type": "code",
   "execution_count": 96,
   "id": "e42a60ea",
   "metadata": {},
   "outputs": [],
   "source": [
    "def load_tracks_with_info(path, isotope, Emin=2.4, Emax=2.5):\n",
    "    \n",
    "    tracks = pd.DataFrame()\n",
    "    \n",
    "    g4volumes = os.listdir(path.format(isotope=isotope))\n",
    "    for i, g4volume in enumerate(g4volumes, 1):\n",
    "        \n",
    "        proc = f\"Processing volume: {i} / {len(g4volumes)}.\"\n",
    "        print(proc.ljust(100), end=\"\\r\")\n",
    "              \n",
    "        filenames = glob.glob( os.path.join(path.format(isotope=isotope)\n",
    "                             , f\"{g4volume}/prod/isaura/isaura_*.h5\"))\n",
    "\n",
    "        for f, filename in enumerate(filenames, 1):\n",
    "\n",
    "            proc = f\"(Volume {i} / {len(g4volumes)}) Processed files: {f} / {len(filenames)}\"\n",
    "            print(proc.ljust(100), end=\"\\r\")\n",
    "\n",
    "            try:\n",
    "                tracks_ = pd.read_hdf(filename, f\"Tracking/Tracks\").set_index(\"event\")\n",
    "            except KeyError:\n",
    "                print(filename)\n",
    "                continue\n",
    "            # energy cut\n",
    "            energies = tracks_.groupby(level=0).energy.sum()\n",
    "            sel = (Emin <= energies) & (energies <= Emax)\n",
    "            tracks_ = tracks_.loc[sel].reset_index()\n",
    "            tracks_[\"G4Volume\"] = g4volume\n",
    "            tracks_[\"file\"]     = get_file_number(filename)\n",
    "            tracks = pd.concat([tracks, tracks_])\n",
    "    return tracks"
   ]
  },
  {
   "cell_type": "code",
   "execution_count": 107,
   "id": "c48afdb0",
   "metadata": {},
   "outputs": [],
   "source": [
    "for isotope in isotopes:\n",
    "    tracks = load_tracks_with_info(path, isotope, Emin=2.4, Emax=2.5)\n",
    "    tracks.to_hdf(tracks_outfile, isotope, index=False)"
   ]
  },
  {
   "cell_type": "code",
   "execution_count": null,
   "id": "5de99030",
   "metadata": {},
   "outputs": [],
   "source": []
  },
  {
   "cell_type": "code",
   "execution_count": null,
   "id": "702e7ee7",
   "metadata": {},
   "outputs": [],
   "source": []
  },
  {
   "cell_type": "code",
   "execution_count": null,
   "id": "efe3f04f",
   "metadata": {},
   "outputs": [],
   "source": []
  },
  {
   "cell_type": "code",
   "execution_count": null,
   "id": "166958e6",
   "metadata": {},
   "outputs": [],
   "source": []
  },
  {
   "cell_type": "code",
   "execution_count": null,
   "id": "540ecbff",
   "metadata": {},
   "outputs": [],
   "source": []
  },
  {
   "cell_type": "code",
   "execution_count": null,
   "id": "fe425571",
   "metadata": {},
   "outputs": [],
   "source": []
  }
 ],
 "metadata": {
  "kernelspec": {
   "display_name": "Python 3 (ipykernel)",
   "language": "python",
   "name": "python3"
  },
  "language_info": {
   "codemirror_mode": {
    "name": "ipython",
    "version": 3
   },
   "file_extension": ".py",
   "mimetype": "text/x-python",
   "name": "python",
   "nbconvert_exporter": "python",
   "pygments_lexer": "ipython3",
   "version": "3.8.13"
  }
 },
 "nbformat": 4,
 "nbformat_minor": 5
}
