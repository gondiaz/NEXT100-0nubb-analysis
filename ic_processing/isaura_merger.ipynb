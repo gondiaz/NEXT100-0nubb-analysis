{
 "cells": [
  {
   "cell_type": "code",
   "execution_count": 2,
   "id": "366553ae",
   "metadata": {},
   "outputs": [],
   "source": [
    "import os\n",
    "import glob\n",
    "import time\n",
    "import numpy  as np\n",
    "import pandas as pd\n",
    "import tables as tb\n",
    "\n",
    "# from invisible_cities.database.load_db import RadioactivityData\n",
    "from invisible_cities.io.dst_io        import load_dst, df_writer"
   ]
  },
  {
   "cell_type": "code",
   "execution_count": 9,
   "id": "47ff8181",
   "metadata": {},
   "outputs": [],
   "source": [
    "get_file_number = lambda filename: int(filename.split(\"/\")[-1].split(\"_\")[1])\n",
    "\n",
    "path = os.path.expandvars(\"$HOME/NEXT/DATA/production/{isotope}/\")\n",
    "\n",
    "in_path  = os.path.join(path, \"{g4volume}/prod/isaura/\")\n",
    "out_path = os.path.join(path, \"{g4volume}/prod/isaura_merged/\")"
   ]
  },
  {
   "cell_type": "code",
   "execution_count": null,
   "id": "2ceaacb1",
   "metadata": {},
   "outputs": [],
   "source": [
    "tables = dict(( (      \"events\", (\"Run\", \"events\")  )\n",
    "              , (    \"eventMap\", (\"Run\", \"eventMap\"))\n",
    "              , (         \"dst\", (\"DST\", \"Events\")  )\n",
    "              , (     \"summary\", (\"Summary\",\"Events\"))\n",
    "              , (    \"tracking\", (\"Tracking\", \"Tracks\"))\n",
    "              , (        \"hits\", (\"MC\", \"hits\")    )\n",
    "              , (   \"particles\", (\"MC\", \"particles\"))\n",
    "              , (\"sns_response\", (\"MC\", \"sns_response\"))\n",
    "           ))"
   ]
  },
  {
   "cell_type": "code",
   "execution_count": null,
   "id": "a9e81a7e",
   "metadata": {},
   "outputs": [],
   "source": []
  },
  {
   "cell_type": "code",
   "execution_count": null,
   "id": "d9a6dd2a",
   "metadata": {},
   "outputs": [],
   "source": []
  },
  {
   "cell_type": "code",
   "execution_count": null,
   "id": "1ca9bcba",
   "metadata": {},
   "outputs": [],
   "source": []
  },
  {
   "cell_type": "code",
   "execution_count": null,
   "id": "8c566888",
   "metadata": {},
   "outputs": [],
   "source": [
    " df_writer(self.h5out, self.events, \"Run\", \"events\", 'ZLIB4')\n",
    "            for key, table in self.tables.items():\n",
    "                if key != \"events\":\n",
    "                    exec(f\"df_writer(self.h5out, self.{key}.reset_index(), *table, 'ZLIB4')\")"
   ]
  },
  {
   "cell_type": "code",
   "execution_count": null,
   "id": "fa50910e",
   "metadata": {},
   "outputs": [],
   "source": []
  },
  {
   "cell_type": "code",
   "execution_count": null,
   "id": "79b97804",
   "metadata": {},
   "outputs": [],
   "source": []
  }
 ],
 "metadata": {
  "kernelspec": {
   "display_name": "Python 3 (ipykernel)",
   "language": "python",
   "name": "python3"
  },
  "language_info": {
   "codemirror_mode": {
    "name": "ipython",
    "version": 3
   },
   "file_extension": ".py",
   "mimetype": "text/x-python",
   "name": "python",
   "nbconvert_exporter": "python",
   "pygments_lexer": "ipython3",
   "version": "3.8.13"
  }
 },
 "nbformat": 4,
 "nbformat_minor": 5
}
