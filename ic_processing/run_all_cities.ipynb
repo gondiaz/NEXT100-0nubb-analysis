{
 "cells": [
  {
   "cell_type": "code",
   "execution_count": 1,
   "id": "6d12df5b",
   "metadata": {},
   "outputs": [],
   "source": [
    "import os\n",
    "import time\n",
    "import glob\n",
    "import pandas as pd\n",
    "import numpy  as np\n",
    "import tables as tb\n",
    "\n",
    "%matplotlib notebook\n",
    "import matplotlib\n",
    "import matplotlib.pyplot as plt\n",
    "import matplotlib.colors as colors\n",
    "import matplotlib.cm     as colormap\n",
    "\n",
    "# cities\n",
    "from invisible_cities.cities.detsim      import detsim\n",
    "from invisible_cities.cities.diomira     import diomira\n",
    "from invisible_cities.cities.hypathia    import hypathia\n",
    "from invisible_cities.cities.dorothea    import dorothea\n",
    "from invisible_cities.cities.penthesilea import penthesilea\n",
    "from invisible_cities.cities.esmeralda   import esmeralda\n",
    "from invisible_cities.cities.beersheba   import beersheba\n",
    "from invisible_cities.cities.isaura      import isaura\n",
    "\n",
    "from invisible_cities.core.system_of_units import *\n",
    "\n",
    "from invisible_cities.core.configure   import configure\n",
    "from invisible_cities.core.configure   import all    as all_events\n",
    "\n",
    "from invisible_cities.database import load_db"
   ]
  },
  {
   "cell_type": "code",
   "execution_count": 2,
   "id": "e1fce9e6",
   "metadata": {},
   "outputs": [],
   "source": [
    "plt.rcParams[\"font.size\"]      = 15\n",
    "plt.rcParams[\"font.family\"]    = \"sans-serif\"\n",
    "plt.rcParams[\"font.monospace\"] = \"Computer Modern Sans Serif\""
   ]
  },
  {
   "cell_type": "code",
   "execution_count": 3,
   "id": "a29e8fca",
   "metadata": {},
   "outputs": [],
   "source": [
    "inputfilename = os.path.expandvars(\"nexus_1_0nubb.h5\")\n",
    "config = pd.read_hdf(inputfilename, \"MC/configuration\").set_index(\"param_key\")"
   ]
  },
  {
   "cell_type": "markdown",
   "id": "1b335908",
   "metadata": {},
   "source": [
    "# DetSim\n",
    "\n",
    "**El-gain**: \\\n",
    "https://www.sciencedirect.com/science/article/pii/S0370269310000420 \\\n",
    "https://core.ac.uk/reader/82436370 \\\n",
    "\\\n",
    "**Diffusion**: \\\n",
    "https://arxiv.org/abs/1804.01680\n",
    "\n",
    "$D'_{L, T} = \\frac{D^*_{L, T}}{\\sqrt{P}}$\n",
    "\n",
    "\n",
    "**IMPORTANT**: Note that the physical parameters above must be the same used in the Kr production, since this notebook uses Kr map and Kr psfs."
   ]
  },
  {
   "cell_type": "code",
   "execution_count": 4,
   "id": "08d92d36",
   "metadata": {},
   "outputs": [
    {
     "name": "stdout",
     "output_type": "stream",
     "text": [
      "EL gain: 1368.5000000000005\n"
     ]
    }
   ],
   "source": [
    "E  = 17.5 * kV/cm\n",
    "p  = 13.5 * bar\n",
    "dx = 1    * cm\n",
    "el_gain = dx*p*(170*(1/kV)*(E/p - 0.70*(kV/cm/bar)))\n",
    "\n",
    "print(\"EL gain:\", el_gain)\n",
    "\n",
    "event = 0"
   ]
  },
  {
   "cell_type": "code",
   "execution_count": 5,
   "id": "e5fd37e1",
   "metadata": {},
   "outputs": [
    {
     "name": "stdout",
     "output_type": "stream",
     "text": [
      "events processed: 0, event number: 0\n",
      "events processed: 1, event number: 1\n",
      "events processed: 2, event number: 2\n",
      "events processed: 3, event number: 3\n",
      "events processed: 4, event number: 4\n",
      "events processed: 5, event number: 5\n",
      "events processed: 6, event number: 6\n",
      "events processed: 7, event number: 7\n",
      "events processed: 8, event number: 8\n",
      "events processed: 9, event number: 9\n",
      "events processed: 10, event number: 10\n",
      "events processed: 11, event number: 11\n",
      "events processed: 12, event number: 12\n",
      "events processed: 13, event number: 13\n",
      "events processed: 14, event number: 14\n",
      "events processed: 15, event number: 15\n",
      "events processed: 16, event number: 16\n",
      "events processed: 17, event number: 17\n",
      "events processed: 18, event number: 18\n",
      "events processed: 19, event number: 19\n",
      "Exec (s) 294.6103208065033\n"
     ]
    }
   ],
   "source": [
    "# configure\n",
    "conf = configure('detsim $PWD/templates/detsimTemplate.conf'.split())\n",
    "\n",
    "conf[\"files_in\"]    = inputfilename\n",
    "conf[\"file_out\"]    = \"/tmp/detsim_events.h5\"\n",
    "conf[\"event_range\"] = (event, event+20)\n",
    "conf[\"print_mod\"]   = 1\n",
    "\n",
    "conf[\"s1_lighttable\"] = \"$HOME/NEXT/DATA/LightTables/NEXT100_S1_LT.h5\"\n",
    "conf[\"s2_lighttable\"] = \"$HOME/NEXT/DATA/LightTables/NEXT100_S2_LT.h5\"\n",
    "conf[\"sipm_psf\"]      = \"$HOME/NEXT/DATA/LightTables/NEXT100_PSF.h5\"\n",
    "\n",
    "dconf = conf\n",
    "\n",
    "# run\n",
    "t0 = time.time()\n",
    "result = detsim(**conf)\n",
    "print(\"Exec (s)\", time.time()-t0)"
   ]
  },
  {
   "cell_type": "markdown",
   "id": "5babb808",
   "metadata": {},
   "source": [
    "# Hypathia"
   ]
  },
  {
   "cell_type": "code",
   "execution_count": 6,
   "id": "6fc21814",
   "metadata": {},
   "outputs": [
    {
     "name": "stdout",
     "output_type": "stream",
     "text": [
      "events processed: 0, event number: 0\n",
      "events processed: 1, event number: 2\n",
      "events processed: 2, event number: 4\n",
      "events processed: 3, event number: 6\n",
      "events processed: 4, event number: 8\n",
      "events processed: 5, event number: 10\n",
      "events processed: 6, event number: 12\n",
      "events processed: 7, event number: 14\n",
      "events processed: 8, event number: 16\n",
      "events processed: 9, event number: 18\n",
      "events processed: 10, event number: 20\n",
      "events processed: 11, event number: 22\n",
      "events processed: 12, event number: 24\n",
      "events processed: 13, event number: 26\n",
      "events processed: 14, event number: 28\n",
      "events processed: 15, event number: 30\n",
      "events processed: 16, event number: 32\n",
      "events processed: 17, event number: 34\n",
      "events processed: 18, event number: 36\n",
      "events processed: 19, event number: 38\n",
      "Exec (s) 34.469274044036865\n"
     ]
    }
   ],
   "source": [
    "# configure\n",
    "conf = configure('hypathia $PWD/templates/hypathiaTemplate.conf'.split())\n",
    "\n",
    "conf[\"files_in\"]  = \"/tmp/detsim_events.h5\"\n",
    "conf[\"file_out\"]  = \"/tmp/hypathia_events.h5\"\n",
    "conf[\"print_mod\"] = 1\n",
    "\n",
    "hconf = conf\n",
    "\n",
    "# run\n",
    "t0 = time.time()\n",
    "result = hypathia(**conf)\n",
    "print(\"Exec (s)\", time.time()-t0)"
   ]
  },
  {
   "cell_type": "markdown",
   "id": "d48e59fe",
   "metadata": {},
   "source": [
    "# Penthesilea"
   ]
  },
  {
   "cell_type": "code",
   "execution_count": 7,
   "id": "1b535e38",
   "metadata": {},
   "outputs": [
    {
     "name": "stdout",
     "output_type": "stream",
     "text": [
      "events processed: 0, event number: 0\n",
      "events processed: 1, event number: 2\n",
      "events processed: 2, event number: 4\n",
      "events processed: 3, event number: 6\n",
      "events processed: 4, event number: 8\n",
      "events processed: 5, event number: 10\n",
      "events processed: 6, event number: 12\n",
      "events processed: 7, event number: 14\n",
      "events processed: 8, event number: 16\n",
      "events processed: 9, event number: 18\n",
      "events processed: 10, event number: 20\n",
      "events processed: 11, event number: 22\n",
      "events processed: 12, event number: 24\n",
      "events processed: 13, event number: 26\n",
      "events processed: 14, event number: 28\n",
      "events processed: 15, event number: 30\n",
      "events processed: 16, event number: 32\n",
      "events processed: 17, event number: 34\n",
      "events processed: 18, event number: 36\n",
      "events processed: 19, event number: 38\n",
      "Exec (s) 8.554705142974854\n"
     ]
    }
   ],
   "source": [
    "# configure\n",
    "conf = configure('penthesilea $PWD/templates/penthesileaTemplate.conf'.split())\n",
    "\n",
    "conf[\"files_in\"]  = \"/tmp/hypathia_events.h5\"\n",
    "conf[\"file_out\"]  = \"/tmp/penthesilea_events.h5\"\n",
    "conf[\"print_mod\"] = 1\n",
    "\n",
    "# run\n",
    "t0 = time.time()\n",
    "result = penthesilea(**conf)\n",
    "print(\"Exec (s)\", time.time()-t0)"
   ]
  },
  {
   "cell_type": "markdown",
   "id": "19fb54b0",
   "metadata": {},
   "source": [
    "# Dorothea"
   ]
  },
  {
   "cell_type": "code",
   "execution_count": 19,
   "id": "3a8be91d",
   "metadata": {},
   "outputs": [],
   "source": [
    "# # configure\n",
    "# conf = configure('dorothea $PWD/templates/dorotheaTemplate.conf'.split())\n",
    "\n",
    "# conf[\"files_in\"]   = \"/tmp/hypathia.h5\"\n",
    "# conf[\"file_out\"]   = \"/tmp/dorothea.h5\"\n",
    "# conf[\"run_number\"] = 0\n",
    "# conf[\"event_range\"]= all_events\n",
    "# conf[\"print_mod\"]  = 1\n",
    "\n",
    "# # run\n",
    "# t0 = time.time()\n",
    "# result = dorothea(**conf)\n",
    "# print(\"Exec (s)\", time.time()-t0)"
   ]
  },
  {
   "cell_type": "code",
   "execution_count": 20,
   "id": "0fcf5240",
   "metadata": {},
   "outputs": [],
   "source": [
    "# dst = pd.read_hdf(conf[\"file_out\"], \"DST/Events\")\n",
    "# dst"
   ]
  },
  {
   "cell_type": "markdown",
   "id": "6f866302",
   "metadata": {},
   "source": [
    "# Esmeralda"
   ]
  },
  {
   "cell_type": "code",
   "execution_count": 8,
   "id": "1a58e0e3",
   "metadata": {},
   "outputs": [
    {
     "name": "stdout",
     "output_type": "stream",
     "text": [
      "events processed: 0, event number: 0\n",
      "events processed: 1, event number: 2\n",
      "events processed: 2, event number: 4\n",
      "events processed: 3, event number: 6\n",
      "events processed: 4, event number: 8\n",
      "events processed: 5, event number: 10\n",
      "events processed: 6, event number: 12\n",
      "events processed: 7, event number: 14\n",
      "events processed: 8, event number: 16\n",
      "events processed: 9, event number: 18\n",
      "events processed: 10, event number: 20\n",
      "events processed: 11, event number: 22\n",
      "events processed: 12, event number: 24\n",
      "events processed: 13, event number: 26\n",
      "events processed: 14, event number: 28\n",
      "events processed: 15, event number: 30\n",
      "events processed: 16, event number: 32\n",
      "events processed: 17, event number: 36\n",
      "events processed: 18, event number: 38\n",
      "Exec (s) 32.42063784599304\n"
     ]
    }
   ],
   "source": [
    "# configure\n",
    "conf = configure('esmeralda $PWD/templates/esmeraldaTemplate.conf'.split())\n",
    "\n",
    "conf[\"files_in\"]  = \"/tmp/penthesilea_events.h5\"\n",
    "conf[\"file_out\"]  = \"/tmp/esmeralda_events.h5\"\n",
    "conf[\"print_mod\"] = 1\n",
    "\n",
    "conf[\"cor_hits_params\"][\"map_fname\"] = \"$HOME/NEXT/DATA/LightTables/map_NEXT100_MC_r470.h5\"\n",
    "\n",
    "econf = conf\n",
    "\n",
    "t0 = time.time()\n",
    "result = esmeralda(**conf)\n",
    "print(\"Exec (s)\", time.time()-t0)"
   ]
  },
  {
   "cell_type": "markdown",
   "id": "3eec1030",
   "metadata": {},
   "source": [
    "# Beersheba"
   ]
  },
  {
   "cell_type": "code",
   "execution_count": 9,
   "id": "ba323f12",
   "metadata": {},
   "outputs": [
    {
     "name": "stdout",
     "output_type": "stream",
     "text": [
      "events processed: 0, event number: 0\n",
      "events processed: 1, event number: 2\n",
      "events processed: 2, event number: 4\n",
      "events processed: 3, event number: 6\n",
      "events processed: 4, event number: 8\n",
      "events processed: 5, event number: 10\n",
      "events processed: 6, event number: 12\n",
      "events processed: 7, event number: 14\n",
      "events processed: 8, event number: 16\n",
      "events processed: 9, event number: 18\n",
      "events processed: 10, event number: 20\n",
      "events processed: 11, event number: 22\n",
      "events processed: 12, event number: 24\n",
      "events processed: 13, event number: 26\n",
      "events processed: 14, event number: 28\n",
      "events processed: 15, event number: 30\n",
      "events processed: 16, event number: 32\n",
      "events processed: 17, event number: 36\n",
      "events processed: 18, event number: 38\n",
      "Exec (s) 238.49087691307068\n"
     ]
    }
   ],
   "source": [
    "# configure\n",
    "conf = configure('beersheba $PWD/templates/beershebaTemplate.conf'.split())\n",
    "\n",
    "conf[\"files_in\"]  = \"/tmp/esmeralda_events.h5\"\n",
    "conf[\"file_out\"]  = \"/tmp/beersheba_events.h5\"\n",
    "conf[\"print_mod\"] = 1\n",
    "\n",
    "conf[\"deconv_params\"][\"psf_fname\"] = \"$HOME/NEXT/DATA/LightTables/NEXT100_PSF_kr83m.h5\"\n",
    "\n",
    "bconf = conf\n",
    "\n",
    "t0 = time.time()\n",
    "result = beersheba(**conf)\n",
    "print(\"Exec (s)\", time.time()-t0)"
   ]
  },
  {
   "cell_type": "markdown",
   "id": "97173444",
   "metadata": {},
   "source": [
    "## Isaura"
   ]
  },
  {
   "cell_type": "code",
   "execution_count": 10,
   "id": "72e9f8e6",
   "metadata": {},
   "outputs": [
    {
     "name": "stdout",
     "output_type": "stream",
     "text": [
      "events processed: 0, event number: 0\n",
      "events processed: 1, event number: 2\n",
      "events processed: 2, event number: 4\n",
      "events processed: 3, event number: 6\n",
      "events processed: 4, event number: 8\n",
      "events processed: 5, event number: 10\n",
      "events processed: 6, event number: 12\n",
      "events processed: 7, event number: 14\n",
      "events processed: 8, event number: 16\n",
      "events processed: 9, event number: 18\n",
      "events processed: 10, event number: 20\n",
      "events processed: 11, event number: 22\n",
      "events processed: 12, event number: 24\n",
      "events processed: 13, event number: 26\n",
      "events processed: 14, event number: 28\n",
      "events processed: 15, event number: 30\n",
      "events processed: 16, event number: 32\n",
      "events processed: 17, event number: 36\n",
      "events processed: 18, event number: 38\n",
      "Exec (s) 61.072516202926636\n"
     ]
    }
   ],
   "source": [
    "# configure\n",
    "conf = configure('isaura $PWD/templates/isauraTemplate.conf'.split())\n",
    "\n",
    "conf[\"files_in\"]  = \"/tmp/beersheba_events.h5\"\n",
    "conf[\"file_out\"]  = \"/tmp/isaura_events.h5\"\n",
    "conf[\"print_mod\"] = 1\n",
    "\n",
    "iconf = conf\n",
    "\n",
    "t0 = time.time()\n",
    "result = isaura(**conf)\n",
    "print(\"Exec (s)\", time.time()-t0)"
   ]
  },
  {
   "cell_type": "code",
   "execution_count": null,
   "id": "3b8615a8",
   "metadata": {},
   "outputs": [],
   "source": []
  },
  {
   "cell_type": "code",
   "execution_count": null,
   "id": "b0af545c",
   "metadata": {},
   "outputs": [],
   "source": []
  },
  {
   "cell_type": "code",
   "execution_count": null,
   "id": "02d9ecc2",
   "metadata": {},
   "outputs": [],
   "source": []
  }
 ],
 "metadata": {
  "kernelspec": {
   "display_name": "Python 3 (ipykernel)",
   "language": "python",
   "name": "python3"
  },
  "language_info": {
   "codemirror_mode": {
    "name": "ipython",
    "version": 3
   },
   "file_extension": ".py",
   "mimetype": "text/x-python",
   "name": "python",
   "nbconvert_exporter": "python",
   "pygments_lexer": "ipython3",
   "version": "3.8.13"
  }
 },
 "nbformat": 4,
 "nbformat_minor": 5
}
