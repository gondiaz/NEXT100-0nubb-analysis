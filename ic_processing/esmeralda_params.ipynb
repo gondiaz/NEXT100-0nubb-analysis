{
 "cells": [
  {
   "cell_type": "code",
   "execution_count": 1,
   "id": "immune-deviation",
   "metadata": {},
   "outputs": [],
   "source": [
    "import os\n",
    "import time\n",
    "import glob\n",
    "import pandas as pd\n",
    "import numpy  as np\n",
    "import tables as tb\n",
    "\n",
    "import matplotlib\n",
    "%matplotlib widget\n",
    "import matplotlib.pyplot as plt\n",
    "import matplotlib.colors as colors\n",
    "import matplotlib.cm     as cm\n",
    "\n",
    "from mpl_toolkits               import mplot3d\n",
    "from mpl_toolkits.mplot3d       import Axes3D\n",
    "from mpl_toolkits.mplot3d.art3d import Poly3DCollection\n",
    "\n",
    "from invisible_cities.cities.esmeralda import esmeralda\n",
    "from invisible_cities.core             import system_of_units as units\n",
    "from invisible_cities.core.configure   import configure\n",
    "from invisible_cities.core.configure   import all             as all_events\n",
    "\n",
    "from invisible_cities.database import load_db"
   ]
  },
  {
   "cell_type": "code",
   "execution_count": 2,
   "id": "equipped-greek",
   "metadata": {},
   "outputs": [],
   "source": [
    "plt.rcParams[\"font.size\"]      = 15\n",
    "plt.rcParams[\"font.family\"]    = \"sans-serif\"\n",
    "plt.rcParams[\"font.monospace\"] = \"Computer Modern Sans Serif\""
   ]
  },
  {
   "cell_type": "code",
   "execution_count": 3,
   "id": "faced-sound",
   "metadata": {},
   "outputs": [],
   "source": [
    "inputfilename = os.path.expandvars(\"$LUSTRE/NEXT100/0nubb/detsim/prod/penthesilea/penthesilea_0_0nubb.h5\")"
   ]
  },
  {
   "cell_type": "code",
   "execution_count": 147,
   "id": "seasonal-amplifier",
   "metadata": {},
   "outputs": [],
   "source": [
    "pes = units.pes\n",
    "mus = units.mus\n",
    "keV = units.keV\n",
    "mm  = units.mm\n",
    "\n",
    "conf = configure('esmeralda $ICTDIR/invisible_cities/config/esmeralda.conf'.split())\n",
    "\n",
    "conf[\"files_in\"]    = inputfilename\n",
    "conf[\"file_out\"]    = \"test.h5\"\n",
    "conf[\"compression\"] = \"ZLIB4\"\n",
    "conf[\"run_number\"]  = 0\n",
    "conf[\"detector_db\"] = \"next100\"\n",
    "conf[\"event_range\"] = (0, 10)\n",
    "conf[\"print_mod\"]   = 1\n",
    "\n",
    "conf[\"cor_hits_params\"] = dict(map_fname = \"$LUSTRE/NEXT100/kr83m/detsim/map_NEXT100_detsim.h5\",\n",
    "                               threshold_charge_low  =  1 * pes,\n",
    "                               threshold_charge_high = 30 * pes, #nominal 30 pes\n",
    "                               same_peak             = True,\n",
    "                               norm_strat            = 'kr',\n",
    "                               apply_temp            = False)\n",
    "\n",
    "conf[\"paolina_params\"] = dict(vox_size         = [15 * mm, 15 * mm, 15 * mm],\n",
    "                              strict_vox_size  = False,\n",
    "                              energy_threshold = 0 * keV, #nominal 20keV\n",
    "                              min_voxels       = 3,\n",
    "                              blob_radius      = 21 * mm,\n",
    "                              max_num_hits     = 30000)"
   ]
  },
  {
   "cell_type": "code",
   "execution_count": 148,
   "id": "tamil-pottery",
   "metadata": {},
   "outputs": [
    {
     "name": "stdout",
     "output_type": "stream",
     "text": [
      "events processed: 0, event number: 0\n",
      "events processed: 1, event number: 8\n",
      "events processed: 2, event number: 16\n",
      "events processed: 3, event number: 24\n",
      "events processed: 4, event number: 32\n",
      "events processed: 5, event number: 40\n",
      "events processed: 6, event number: 48\n",
      "events processed: 7, event number: 56\n",
      "events processed: 8, event number: 64\n",
      "events processed: 9, event number: 72\n",
      "Exec (s) 12.391907930374146\n"
     ]
    }
   ],
   "source": [
    "t0 = time.time()\n",
    "\n",
    "result = esmeralda(**conf)\n",
    "\n",
    "print(\"Exec (s)\", time.time()-t0)"
   ]
  },
  {
   "cell_type": "code",
   "execution_count": null,
   "id": "sacred-tactics",
   "metadata": {},
   "outputs": [],
   "source": []
  },
  {
   "cell_type": "code",
   "execution_count": 149,
   "id": "gothic-mumbai",
   "metadata": {},
   "outputs": [],
   "source": [
    "CHITS   = pd.read_hdf(conf[\"file_out\"], \"CHITS/highTh\")   .set_index(\"event\")\n",
    "Tracks  = pd.read_hdf(conf[\"file_out\"], \"Tracking/Tracks\").set_index(\"event\")\n",
    "Summary = pd.read_hdf(conf[\"file_out\"], \"Summary/Events\") .set_index(\"event\")\n",
    "DST     = pd.read_hdf(conf[\"file_out\"], \"DST/Events\")     .set_index(\"event\")\n",
    "\n",
    "MCHITS  = pd.read_hdf(conf[\"file_out\"], \"MC/hits\").set_index(\"event_id\")\n",
    "\n",
    "eventMap = pd.read_hdf(conf[\"file_out\"], \"Run/eventMap\").set_index(\"evt_number\")"
   ]
  },
  {
   "cell_type": "code",
   "execution_count": null,
   "id": "organic-plasma",
   "metadata": {},
   "outputs": [],
   "source": []
  },
  {
   "cell_type": "code",
   "execution_count": 150,
   "id": "acceptable-dubai",
   "metadata": {},
   "outputs": [],
   "source": [
    "event = 8\n",
    "\n",
    "chits   = CHITS  .loc[[event]]\n",
    "tracks  = Tracks .loc[[event]]\n",
    "summary = Summary.loc[[event]]\n",
    "dst     = DST    .loc[[event]]\n",
    "\n",
    "mchits  = MCHITS .loc[eventMap.loc[event].values[0]]"
   ]
  },
  {
   "cell_type": "code",
   "execution_count": null,
   "id": "exceptional-kinase",
   "metadata": {},
   "outputs": [],
   "source": []
  },
  {
   "cell_type": "code",
   "execution_count": 151,
   "id": "potential-image",
   "metadata": {},
   "outputs": [
    {
     "data": {
      "application/vnd.jupyter.widget-view+json": {
       "model_id": "27a45829c7ba4b47a974e9878b2b5e2c",
       "version_major": 2,
       "version_minor": 0
      },
      "text/plain": [
       "Canvas(toolbar=Toolbar(toolitems=[('Home', 'Reset original view', 'home', 'home'), ('Back', 'Back to previous …"
      ]
     },
     "metadata": {},
     "output_type": "display_data"
    }
   ],
   "source": [
    "fig = plt.figure()\n",
    "ax = fig.gca(projection='3d')\n",
    "\n",
    "for track_id, track in tracks.groupby(\"trackID\"):\n",
    "    hits = chits[chits[\"track_id\"]==track_id]\n",
    "    \n",
    "    # plot\n",
    "    norm   = colors.Normalize(vmin=0, vmax=hits[\"E\"].max(), clip=True)\n",
    "    mapper = cm.ScalarMappable(norm=norm, cmap=cm.coolwarm)\n",
    "\n",
    "    # chits\n",
    "    ax.scatter(hits[\"X\"], hits[\"Y\"], hits[\"Z\"], color=mapper.to_rgba(hits[\"E\"]), alpha=0.2)\n",
    "\n",
    "    # mchits\n",
    "    ax.scatter(mchits[\"x\"], mchits[\"y\"], mchits[\"z\"], c=\"r\", s=1)\n",
    "\n",
    "    # blobs\n",
    "    ax.scatter(track[\"blob1_x\"], track[\"blob1_y\"], track[\"blob1_z\"], marker=\"*\", s=200, c=\"k\")\n",
    "    ax.scatter(track[\"blob2_x\"], track[\"blob2_y\"], track[\"blob2_z\"], marker=\"*\", s=200, c=\"k\")"
   ]
  },
  {
   "cell_type": "code",
   "execution_count": null,
   "id": "certain-string",
   "metadata": {},
   "outputs": [],
   "source": []
  },
  {
   "cell_type": "code",
   "execution_count": null,
   "id": "communist-channel",
   "metadata": {},
   "outputs": [],
   "source": []
  },
  {
   "cell_type": "code",
   "execution_count": null,
   "id": "critical-theater",
   "metadata": {},
   "outputs": [],
   "source": []
  },
  {
   "cell_type": "code",
   "execution_count": null,
   "id": "smooth-layout",
   "metadata": {},
   "outputs": [],
   "source": []
  },
  {
   "cell_type": "code",
   "execution_count": null,
   "id": "rocky-reference",
   "metadata": {},
   "outputs": [],
   "source": []
  },
  {
   "cell_type": "code",
   "execution_count": null,
   "id": "identified-vaccine",
   "metadata": {},
   "outputs": [],
   "source": []
  },
  {
   "cell_type": "code",
   "execution_count": 10,
   "id": "catholic-investigation",
   "metadata": {},
   "outputs": [],
   "source": [
    "voxels = []\n",
    "for x, y, z in zip(xs, ys, zs):\n",
    "    \n",
    "    x1, x2 = x-vox_x/2., x+vox_x/2.\n",
    "    y1, y2 = y-vox_y/2., y+vox_y/2.\n",
    "    z1, z2 = z-vox_z/2., z+vox_z/2.\n",
    "    \n",
    "    verts = np.array([(x1, y1, z1), (x1, y1, z2), (x1, y2, z1), (x1, y2, z2),\n",
    "                      (x2, y1, z1), (x2, y1, z2), (x2, y2, z1), (x2, y2, z2)])\n",
    "    voxels.append(verts)\n",
    "    break"
   ]
  },
  {
   "cell_type": "code",
   "execution_count": null,
   "id": "private-birth",
   "metadata": {},
   "outputs": [],
   "source": []
  },
  {
   "cell_type": "code",
   "execution_count": 13,
   "id": "dominican-physiology",
   "metadata": {},
   "outputs": [],
   "source": [
    "# fig = plt.figure()\n",
    "# ax = fig.add_subplot(111, projection='3d')\n",
    "# # ax = fig.gca(projection='3d')\n",
    "\n",
    "# ax.add_collection3d(p)"
   ]
  },
  {
   "cell_type": "code",
   "execution_count": 11,
   "id": "loved-nudist",
   "metadata": {},
   "outputs": [],
   "source": [
    "def cuboid_data(o, size=(1,1,1)):\n",
    "    X = [[[0, 1, 0], [0, 0, 0], [1, 0, 0], [1, 1, 0]],\n",
    "         [[0, 0, 0], [0, 0, 1], [1, 0, 1], [1, 0, 0]],\n",
    "         [[1, 0, 1], [1, 0, 0], [1, 1, 0], [1, 1, 1]],\n",
    "         [[0, 0, 1], [0, 0, 0], [0, 1, 0], [0, 1, 1]],\n",
    "         [[0, 1, 0], [0, 1, 1], [1, 1, 1], [1, 1, 0]],\n",
    "         [[0, 1, 1], [0, 0, 1], [1, 0, 1], [1, 1, 1]]]\n",
    "    X = np.array(X).astype(float)\n",
    "    for i in range(3):\n",
    "        X[:,:,i] *= size[i]\n",
    "    X += np.array(o)\n",
    "    return X\n",
    "\n",
    "def plotCubeAt(positions, sizes=None, colors=None, **kwargs):\n",
    "    if not isinstance(colors,(list,np.ndarray)): colors=[\"C0\"]     *len(positions)\n",
    "    if not isinstance(sizes ,(list,np.ndarray)): sizes =[(1 , 1 ,1)]*len(positions)\n",
    "    g = []\n",
    "    for p,s,c in zip(positions, sizes, colors):\n",
    "        g.append( cuboid_data(p, size=s) )\n",
    "    return Poly3DCollection(np.concatenate(g),  \n",
    "                            facecolors=np.repeat(colors,6, axis=0), **kwargs)"
   ]
  },
  {
   "cell_type": "code",
   "execution_count": 24,
   "id": "centered-alarm",
   "metadata": {},
   "outputs": [],
   "source": [
    "positions = np.concatenate([xs[:, np.newaxis], ys[:, np.newaxis], zs[:, np.newaxis]], axis=1)[:2]\n",
    "colors= np.random.rand(len(positions), 3)\n",
    "sizes = [(vox_x, vox_y, vox_z)] *len(positions)"
   ]
  },
  {
   "cell_type": "code",
   "execution_count": 26,
   "id": "seasonal-implementation",
   "metadata": {},
   "outputs": [
    {
     "data": {
      "text/plain": [
       "array([[365.425     , -69.975     , 300.506625  ],\n",
       "       [365.425     , -69.975     , 301.50459375]])"
      ]
     },
     "execution_count": 26,
     "metadata": {},
     "output_type": "execute_result"
    }
   ],
   "source": [
    "positions"
   ]
  },
  {
   "cell_type": "code",
   "execution_count": null,
   "id": "determined-tours",
   "metadata": {},
   "outputs": [],
   "source": []
  },
  {
   "cell_type": "code",
   "execution_count": 25,
   "id": "latest-seeker",
   "metadata": {},
   "outputs": [
    {
     "data": {
      "application/vnd.jupyter.widget-view+json": {
       "model_id": "63272ec1b41a4b4e971efdeffd7ccd82",
       "version_major": 2,
       "version_minor": 0
      },
      "text/plain": [
       "Canvas(toolbar=Toolbar(toolitems=[('Home', 'Reset original view', 'home', 'home'), ('Back', 'Back to previous …"
      ]
     },
     "metadata": {},
     "output_type": "display_data"
    },
    {
     "data": {
      "text/plain": [
       "(255.51768750000002, 316.42878125)"
      ]
     },
     "execution_count": 25,
     "metadata": {},
     "output_type": "execute_result"
    }
   ],
   "source": [
    "fig = plt.figure()\n",
    "ax = fig.gca(projection='3d')\n",
    "\n",
    "pc = plotCubeAt(positions, colors=colors, sizes=sizes, edgecolor=\"k\")\n",
    "ax.add_collection3d(pc)\n",
    "\n",
    "ax.set_xlim([min(xs)-10, max(xs)+10])\n",
    "ax.set_ylim([min(ys)-10, max(ys)+10])\n",
    "ax.set_zlim([min(zs)-10, max(zs)+10])"
   ]
  },
  {
   "cell_type": "code",
   "execution_count": null,
   "id": "liquid-breast",
   "metadata": {},
   "outputs": [],
   "source": []
  },
  {
   "cell_type": "code",
   "execution_count": 26,
   "id": "medium-french",
   "metadata": {},
   "outputs": [
    {
     "data": {
      "image/png": "[encoded data removed]",
      "text/plain": [
       "<Figure size 432x288 with 1 Axes>"
      ]
     },
     "metadata": {
      "needs_background": "light"
     },
     "output_type": "display_data"
    }
   ],
   "source": [
    "def cuboid_data(o, size=(1,1,1)):\n",
    "    X = [[[0, 1, 0], [0, 0, 0], [1, 0, 0], [1, 1, 0]],\n",
    "         [[0, 0, 0], [0, 0, 1], [1, 0, 1], [1, 0, 0]],\n",
    "         [[1, 0, 1], [1, 0, 0], [1, 1, 0], [1, 1, 1]],\n",
    "         [[0, 0, 1], [0, 0, 0], [0, 1, 0], [0, 1, 1]],\n",
    "         [[0, 1, 0], [0, 1, 1], [1, 1, 1], [1, 1, 0]],\n",
    "         [[0, 1, 1], [0, 0, 1], [1, 0, 1], [1, 1, 1]]]\n",
    "    X = np.array(X).astype(float)\n",
    "    for i in range(3):\n",
    "        X[:,:,i] *= size[i]\n",
    "    X += np.array(o)\n",
    "    return X\n",
    "\n",
    "def plotCubeAt(positions, sizes=None, colors=None, **kwargs):\n",
    "    if not isinstance(colors,(list,np.ndarray)): colors=[\"C0\"]   *len(positions)\n",
    "    if not isinstance(sizes ,(list,np.ndarray)): sizes =[(1,1,1)]*len(positions)\n",
    "    g = []\n",
    "    for p,s,c in zip(positions,sizes,colors):\n",
    "        g.append( cuboid_data(p, size=s) )\n",
    "    return Poly3DCollection(np.concatenate(g),  \n",
    "                            facecolors=np.repeat(colors,6, axis=0), **kwargs)\n",
    "\n",
    "N1 = 10\n",
    "N2 = 10\n",
    "N3 = 10\n",
    "\n",
    "ma = np.random.choice([0,1], size=(N1,N2,N3), p=[0.99, 0.01])\n",
    "x,y,z = np.indices((N1,N2,N3))-.5\n",
    "\n",
    "positions = np.c_[x[ma==1],y[ma==1],z[ma==1]]\n",
    "colors= np.random.rand(len(positions),3)\n",
    "\n",
    "fig = plt.figure()\n",
    "ax = fig.gca(projection='3d')\n",
    "\n",
    "pc = plotCubeAt(positions, colors=colors, edgecolor=\"k\")\n",
    "ax.add_collection3d(pc)\n",
    "\n",
    "ax.set_xlim([0,10])\n",
    "ax.set_ylim([0,10])\n",
    "ax.set_zlim([0,10])\n",
    "\n",
    "plt.show()"
   ]
  },
  {
   "cell_type": "code",
   "execution_count": null,
   "id": "round-taylor",
   "metadata": {},
   "outputs": [],
   "source": []
  },
  {
   "cell_type": "code",
   "execution_count": null,
   "id": "after-aquarium",
   "metadata": {},
   "outputs": [],
   "source": []
  },
  {
   "cell_type": "code",
   "execution_count": null,
   "id": "according-valuation",
   "metadata": {},
   "outputs": [],
   "source": []
  },
  {
   "cell_type": "code",
   "execution_count": null,
   "id": "applicable-karen",
   "metadata": {},
   "outputs": [],
   "source": []
  },
  {
   "cell_type": "code",
   "execution_count": null,
   "id": "fatty-netscape",
   "metadata": {},
   "outputs": [],
   "source": []
  },
  {
   "cell_type": "code",
   "execution_count": null,
   "id": "korean-billion",
   "metadata": {},
   "outputs": [],
   "source": []
  },
  {
   "cell_type": "code",
   "execution_count": null,
   "id": "radio-belle",
   "metadata": {},
   "outputs": [],
   "source": []
  },
  {
   "cell_type": "code",
   "execution_count": null,
   "id": "hourly-resort",
   "metadata": {},
   "outputs": [],
   "source": []
  },
  {
   "cell_type": "code",
   "execution_count": null,
   "id": "drawn-saint",
   "metadata": {},
   "outputs": [],
   "source": []
  }
 ],
 "metadata": {
  "kernelspec": {
   "display_name": "Python 3",
   "language": "python",
   "name": "python3"
  },
  "language_info": {
   "codemirror_mode": {
    "name": "ipython",
    "version": 3
   },
   "file_extension": ".py",
   "mimetype": "text/x-python",
   "name": "python",
   "nbconvert_exporter": "python",
   "pygments_lexer": "ipython3",
   "version": "3.8.8"
  }
 },
 "nbformat": 4,
 "nbformat_minor": 5
}
